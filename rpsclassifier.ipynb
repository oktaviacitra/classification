{
  "nbformat": 4,
  "nbformat_minor": 0,
  "metadata": {
    "colab": {
      "provenance": [],
      "authorship_tag": "ABX9TyMg1eEYyGYwGs1nEOmjMxR2",
      "include_colab_link": true
    },
    "kernelspec": {
      "name": "python3",
      "display_name": "Python 3"
    },
    "language_info": {
      "name": "python"
    },
    "accelerator": "GPU",
    "gpuClass": "standard"
  },
  "cells": [
    {
      "cell_type": "markdown",
      "metadata": {
        "id": "view-in-github",
        "colab_type": "text"
      },
      "source": [
        "<a href=\"https://colab.research.google.com/github/oktaviacitra/classification/blob/main/rpsclassifier.ipynb\" target=\"_parent\"><img src=\"https://colab.research.google.com/assets/colab-badge.svg\" alt=\"Open In Colab\"/></a>"
      ]
    },
    {
      "cell_type": "code",
      "execution_count": 1,
      "metadata": {
        "colab": {
          "base_uri": "https://localhost:8080/"
        },
        "id": "Gaj2fS5o6bLs",
        "outputId": "5d14ee4c-d9da-4661-8285-4b74f1ab6b59"
      },
      "outputs": [
        {
          "output_type": "stream",
          "name": "stdout",
          "text": [
            "Mounted at /content/drive\n"
          ]
        }
      ],
      "source": [
        "from google.colab import drive\n",
        "\n",
        "origin_path = '/content/drive'\n",
        "drive.mount(origin_path)"
      ]
    },
    {
      "cell_type": "code",
      "source": [
        "import tensorflow\n",
        "from keras.preprocessing.image import ImageDataGenerator\n",
        "\n",
        "folder_path = origin_path + '/MyDrive/Learning Journey/rps/'\n",
        "\n",
        "augmentation = ImageDataGenerator(\n",
        "    brightness_range=(0.0, 0.3),\n",
        "    zoom_range=0.15,\n",
        "    width_shift_range=0.2,\n",
        "    height_shift_range=0.2,\n",
        "    shear_range=0.15,\n",
        "    fill_mode=\"nearest\",\n",
        "    rescale=1/255.,\n",
        "    validation_split=0.4)\n",
        "\n",
        "train_generator = augmentation.flow_from_directory(folder_path,\n",
        "                                                   target_size = (60, 90),\n",
        "                                                   class_mode = 'categorical',\n",
        "                                                   subset = 'training'\n",
        "                                                   )\n",
        "\n",
        "validation_generator = augmentation.flow_from_directory(folder_path,\n",
        "                                                        target_size = (60, 90),\n",
        "                                                        class_mode = 'categorical',\n",
        "                                                        subset = 'validation'\n",
        "                                                        )"
      ],
      "metadata": {
        "colab": {
          "base_uri": "https://localhost:8080/"
        },
        "id": "XeKAKv7dCTga",
        "outputId": "239e0189-30a4-4795-c730-2a80244c62be"
      },
      "execution_count": 42,
      "outputs": [
        {
          "output_type": "stream",
          "name": "stdout",
          "text": [
            "Found 1314 images belonging to 3 classes.\n",
            "Found 874 images belonging to 3 classes.\n"
          ]
        }
      ]
    },
    {
      "cell_type": "code",
      "source": [
        "from keras.models import Sequential\n",
        "from keras.layers import Conv2D, Flatten, Dense\n",
        "\n",
        "model = Sequential([\n",
        "    Conv2D(2, (3, 3), activation = 'relu', padding=\"same\", name=\"conv_1\", input_shape = (60, 90, 3)),\n",
        "    Flatten(name=\"flatten\"),\n",
        "    Dense(1024, activation = 'relu', name=\"dense_1\"),\n",
        "    Dense(3, activation = 'softmax', name=\"dense_2\")\n",
        "], name=\"model\")\n",
        "model.summary()"
      ],
      "metadata": {
        "colab": {
          "base_uri": "https://localhost:8080/"
        },
        "id": "O1RRbospDQuK",
        "outputId": "8ec18b66-21b9-4915-9c19-1fe8e59ed03f"
      },
      "execution_count": 44,
      "outputs": [
        {
          "output_type": "stream",
          "name": "stdout",
          "text": [
            "Model: \"model\"\n",
            "_________________________________________________________________\n",
            " Layer (type)                Output Shape              Param #   \n",
            "=================================================================\n",
            " conv_1 (Conv2D)             (None, 60, 90, 2)         56        \n",
            "                                                                 \n",
            " flatten (Flatten)           (None, 10800)             0         \n",
            "                                                                 \n",
            " dense_1 (Dense)             (None, 1024)              11060224  \n",
            "                                                                 \n",
            " dense_2 (Dense)             (None, 3)                 3075      \n",
            "                                                                 \n",
            "=================================================================\n",
            "Total params: 11,063,355\n",
            "Trainable params: 11,063,355\n",
            "Non-trainable params: 0\n",
            "_________________________________________________________________\n"
          ]
        }
      ]
    },
    {
      "cell_type": "code",
      "source": [
        "from keras.callbacks import EarlyStopping, ModelCheckpoint, ReduceLROnPlateau\n",
        "\n",
        "model.compile(loss = 'categorical_crossentropy',\n",
        "              optimizer = 'adam',\n",
        "              metrics = ['accuracy'])\n",
        "\n",
        "reduce_lr = ReduceLROnPlateau(\n",
        "    monitor='val_loss', \n",
        "    factor=0.4,   \n",
        "    patience=2, \n",
        "    min_lr=0.001,\n",
        "    verbose=1\n",
        ")\n",
        "best_weight = ModelCheckpoint(folder_path + \"{epoch:02d}-{val_loss:.4f}.h5\",\n",
        "                              monitor=\"val_loss\",\n",
        "                              mode=\"min\",\n",
        "                              save_best_only=True,\n",
        "                              verbose=1)\n",
        "stop_early = EarlyStopping(monitor='val_loss', patience=5)\n",
        "history = model.fit(train_generator, epochs=200,\n",
        "             validation_data=validation_generator,\n",
        "             callbacks=[stop_early, best_weight, reduce_lr],\n",
        "             verbose=1)"
      ],
      "metadata": {
        "colab": {
          "base_uri": "https://localhost:8080/"
        },
        "id": "1UN7RtA0Gsoy",
        "outputId": "8eacda92-5474-40bf-a9bb-84a341b51a79"
      },
      "execution_count": 45,
      "outputs": [
        {
          "output_type": "stream",
          "name": "stdout",
          "text": [
            "Epoch 1/200\n",
            "42/42 [==============================] - ETA: 0s - loss: 1.3428 - accuracy: 0.4262\n",
            "Epoch 1: val_loss improved from inf to 1.01573, saving model to /content/drive/MyDrive/Learning Journey/rps/01-1.0157.h5\n",
            "42/42 [==============================] - 100s 2s/step - loss: 1.3428 - accuracy: 0.4262 - val_loss: 1.0157 - val_accuracy: 0.5355 - lr: 0.0010\n",
            "Epoch 2/200\n",
            "41/42 [============================>.] - ETA: 0s - loss: 1.0460 - accuracy: 0.5198\n",
            "Epoch 2: val_loss improved from 1.01573 to 1.00047, saving model to /content/drive/MyDrive/Learning Journey/rps/02-1.0005.h5\n",
            "42/42 [==============================] - 11s 275ms/step - loss: 1.0465 - accuracy: 0.5198 - val_loss: 1.0005 - val_accuracy: 0.5618 - lr: 0.0010\n",
            "Epoch 3/200\n",
            "42/42 [==============================] - ETA: 0s - loss: 0.9602 - accuracy: 0.5693\n",
            "Epoch 3: val_loss improved from 1.00047 to 0.91836, saving model to /content/drive/MyDrive/Learning Journey/rps/03-0.9184.h5\n",
            "42/42 [==============================] - 11s 275ms/step - loss: 0.9602 - accuracy: 0.5693 - val_loss: 0.9184 - val_accuracy: 0.5961 - lr: 0.0010\n",
            "Epoch 4/200\n",
            "42/42 [==============================] - ETA: 0s - loss: 0.9005 - accuracy: 0.6081\n",
            "Epoch 4: val_loss improved from 0.91836 to 0.86153, saving model to /content/drive/MyDrive/Learning Journey/rps/04-0.8615.h5\n",
            "42/42 [==============================] - 11s 274ms/step - loss: 0.9005 - accuracy: 0.6081 - val_loss: 0.8615 - val_accuracy: 0.6304 - lr: 0.0010\n",
            "Epoch 5/200\n",
            "42/42 [==============================] - ETA: 0s - loss: 0.8208 - accuracy: 0.6697\n",
            "Epoch 5: val_loss improved from 0.86153 to 0.84762, saving model to /content/drive/MyDrive/Learning Journey/rps/05-0.8476.h5\n",
            "42/42 [==============================] - 11s 275ms/step - loss: 0.8208 - accuracy: 0.6697 - val_loss: 0.8476 - val_accuracy: 0.6808 - lr: 0.0010\n",
            "Epoch 6/200\n",
            "42/42 [==============================] - ETA: 0s - loss: 0.7496 - accuracy: 0.6994\n",
            "Epoch 6: val_loss improved from 0.84762 to 0.69850, saving model to /content/drive/MyDrive/Learning Journey/rps/06-0.6985.h5\n",
            "42/42 [==============================] - 11s 274ms/step - loss: 0.7496 - accuracy: 0.6994 - val_loss: 0.6985 - val_accuracy: 0.7803 - lr: 0.0010\n",
            "Epoch 7/200\n",
            "42/42 [==============================] - ETA: 0s - loss: 0.6499 - accuracy: 0.7823\n",
            "Epoch 7: val_loss improved from 0.69850 to 0.60413, saving model to /content/drive/MyDrive/Learning Journey/rps/07-0.6041.h5\n",
            "42/42 [==============================] - 12s 278ms/step - loss: 0.6499 - accuracy: 0.7823 - val_loss: 0.6041 - val_accuracy: 0.8066 - lr: 0.0010\n",
            "Epoch 8/200\n",
            "42/42 [==============================] - ETA: 0s - loss: 0.5392 - accuracy: 0.8303\n",
            "Epoch 8: val_loss improved from 0.60413 to 0.55651, saving model to /content/drive/MyDrive/Learning Journey/rps/08-0.5565.h5\n",
            "42/42 [==============================] - 12s 277ms/step - loss: 0.5392 - accuracy: 0.8303 - val_loss: 0.5565 - val_accuracy: 0.8032 - lr: 0.0010\n",
            "Epoch 9/200\n",
            "42/42 [==============================] - ETA: 0s - loss: 0.5165 - accuracy: 0.8189\n",
            "Epoch 9: val_loss improved from 0.55651 to 0.50044, saving model to /content/drive/MyDrive/Learning Journey/rps/09-0.5004.h5\n",
            "42/42 [==============================] - 11s 272ms/step - loss: 0.5165 - accuracy: 0.8189 - val_loss: 0.5004 - val_accuracy: 0.8398 - lr: 0.0010\n",
            "Epoch 10/200\n",
            "42/42 [==============================] - ETA: 0s - loss: 0.4847 - accuracy: 0.8562\n",
            "Epoch 10: val_loss improved from 0.50044 to 0.47894, saving model to /content/drive/MyDrive/Learning Journey/rps/10-0.4789.h5\n",
            "42/42 [==============================] - 11s 275ms/step - loss: 0.4847 - accuracy: 0.8562 - val_loss: 0.4789 - val_accuracy: 0.8547 - lr: 0.0010\n",
            "Epoch 11/200\n",
            "42/42 [==============================] - ETA: 0s - loss: 0.4625 - accuracy: 0.8463\n",
            "Epoch 11: val_loss improved from 0.47894 to 0.46015, saving model to /content/drive/MyDrive/Learning Journey/rps/11-0.4601.h5\n",
            "42/42 [==============================] - 11s 275ms/step - loss: 0.4625 - accuracy: 0.8463 - val_loss: 0.4601 - val_accuracy: 0.8547 - lr: 0.0010\n",
            "Epoch 12/200\n",
            "42/42 [==============================] - ETA: 0s - loss: 0.4241 - accuracy: 0.8706\n",
            "Epoch 12: val_loss did not improve from 0.46015\n",
            "42/42 [==============================] - 11s 264ms/step - loss: 0.4241 - accuracy: 0.8706 - val_loss: 0.5337 - val_accuracy: 0.8307 - lr: 0.0010\n",
            "Epoch 13/200\n",
            "42/42 [==============================] - ETA: 0s - loss: 0.4179 - accuracy: 0.8691\n",
            "Epoch 13: val_loss improved from 0.46015 to 0.43983, saving model to /content/drive/MyDrive/Learning Journey/rps/13-0.4398.h5\n",
            "42/42 [==============================] - 11s 263ms/step - loss: 0.4179 - accuracy: 0.8691 - val_loss: 0.4398 - val_accuracy: 0.8810 - lr: 0.0010\n",
            "Epoch 14/200\n",
            "42/42 [==============================] - ETA: 0s - loss: 0.3601 - accuracy: 0.8896\n",
            "Epoch 14: val_loss did not improve from 0.43983\n",
            "42/42 [==============================] - 13s 315ms/step - loss: 0.3601 - accuracy: 0.8896 - val_loss: 0.5708 - val_accuracy: 0.7769 - lr: 0.0010\n",
            "Epoch 15/200\n",
            "42/42 [==============================] - ETA: 0s - loss: 0.5028 - accuracy: 0.8417\n",
            "Epoch 15: val_loss improved from 0.43983 to 0.42665, saving model to /content/drive/MyDrive/Learning Journey/rps/15-0.4267.h5\n",
            "42/42 [==============================] - 11s 261ms/step - loss: 0.5028 - accuracy: 0.8417 - val_loss: 0.4267 - val_accuracy: 0.8822 - lr: 0.0010\n",
            "Epoch 16/200\n",
            "42/42 [==============================] - ETA: 0s - loss: 0.3776 - accuracy: 0.8843\n",
            "Epoch 16: val_loss improved from 0.42665 to 0.35109, saving model to /content/drive/MyDrive/Learning Journey/rps/16-0.3511.h5\n",
            "42/42 [==============================] - 11s 275ms/step - loss: 0.3776 - accuracy: 0.8843 - val_loss: 0.3511 - val_accuracy: 0.9039 - lr: 0.0010\n",
            "Epoch 17/200\n",
            "42/42 [==============================] - ETA: 0s - loss: 0.3741 - accuracy: 0.8858\n",
            "Epoch 17: val_loss improved from 0.35109 to 0.33113, saving model to /content/drive/MyDrive/Learning Journey/rps/17-0.3311.h5\n",
            "42/42 [==============================] - 11s 274ms/step - loss: 0.3741 - accuracy: 0.8858 - val_loss: 0.3311 - val_accuracy: 0.8982 - lr: 0.0010\n",
            "Epoch 18/200\n",
            "42/42 [==============================] - ETA: 0s - loss: 0.3075 - accuracy: 0.9148\n",
            "Epoch 18: val_loss improved from 0.33113 to 0.32911, saving model to /content/drive/MyDrive/Learning Journey/rps/18-0.3291.h5\n",
            "42/42 [==============================] - 12s 282ms/step - loss: 0.3075 - accuracy: 0.9148 - val_loss: 0.3291 - val_accuracy: 0.8959 - lr: 0.0010\n",
            "Epoch 19/200\n",
            "42/42 [==============================] - ETA: 0s - loss: 0.3073 - accuracy: 0.9110\n",
            "Epoch 19: val_loss improved from 0.32911 to 0.31980, saving model to /content/drive/MyDrive/Learning Journey/rps/19-0.3198.h5\n",
            "42/42 [==============================] - 11s 275ms/step - loss: 0.3073 - accuracy: 0.9110 - val_loss: 0.3198 - val_accuracy: 0.8947 - lr: 0.0010\n",
            "Epoch 20/200\n",
            "42/42 [==============================] - ETA: 0s - loss: 0.3146 - accuracy: 0.9117\n",
            "Epoch 20: val_loss did not improve from 0.31980\n",
            "42/42 [==============================] - 11s 262ms/step - loss: 0.3146 - accuracy: 0.9117 - val_loss: 0.3990 - val_accuracy: 0.8856 - lr: 0.0010\n",
            "Epoch 21/200\n",
            "42/42 [==============================] - ETA: 0s - loss: 0.3495 - accuracy: 0.8782\n",
            "Epoch 21: val_loss improved from 0.31980 to 0.29906, saving model to /content/drive/MyDrive/Learning Journey/rps/21-0.2991.h5\n",
            "42/42 [==============================] - 11s 262ms/step - loss: 0.3495 - accuracy: 0.8782 - val_loss: 0.2991 - val_accuracy: 0.8959 - lr: 0.0010\n",
            "Epoch 22/200\n",
            "42/42 [==============================] - ETA: 0s - loss: 0.3048 - accuracy: 0.9125\n",
            "Epoch 22: val_loss did not improve from 0.29906\n",
            "42/42 [==============================] - 11s 261ms/step - loss: 0.3048 - accuracy: 0.9125 - val_loss: 0.3230 - val_accuracy: 0.9073 - lr: 0.0010\n",
            "Epoch 23/200\n",
            "42/42 [==============================] - ETA: 0s - loss: 0.3029 - accuracy: 0.9140\n",
            "Epoch 23: val_loss improved from 0.29906 to 0.29480, saving model to /content/drive/MyDrive/Learning Journey/rps/23-0.2948.h5\n",
            "42/42 [==============================] - 11s 266ms/step - loss: 0.3029 - accuracy: 0.9140 - val_loss: 0.2948 - val_accuracy: 0.9165 - lr: 0.0010\n",
            "Epoch 24/200\n",
            "42/42 [==============================] - ETA: 0s - loss: 0.2729 - accuracy: 0.9193\n",
            "Epoch 24: val_loss improved from 0.29480 to 0.27845, saving model to /content/drive/MyDrive/Learning Journey/rps/24-0.2784.h5\n",
            "42/42 [==============================] - 11s 270ms/step - loss: 0.2729 - accuracy: 0.9193 - val_loss: 0.2784 - val_accuracy: 0.9233 - lr: 0.0010\n",
            "Epoch 25/200\n",
            "42/42 [==============================] - ETA: 0s - loss: 0.2710 - accuracy: 0.9338\n",
            "Epoch 25: val_loss did not improve from 0.27845\n",
            "42/42 [==============================] - 11s 260ms/step - loss: 0.2710 - accuracy: 0.9338 - val_loss: 0.3324 - val_accuracy: 0.9096 - lr: 0.0010\n",
            "Epoch 26/200\n",
            "42/42 [==============================] - ETA: 0s - loss: 0.3173 - accuracy: 0.9072\n",
            "Epoch 26: val_loss improved from 0.27845 to 0.27512, saving model to /content/drive/MyDrive/Learning Journey/rps/26-0.2751.h5\n",
            "42/42 [==============================] - 11s 264ms/step - loss: 0.3173 - accuracy: 0.9072 - val_loss: 0.2751 - val_accuracy: 0.9176 - lr: 0.0010\n",
            "Epoch 27/200\n",
            "42/42 [==============================] - ETA: 0s - loss: 0.2383 - accuracy: 0.9110\n",
            "Epoch 27: val_loss did not improve from 0.27512\n",
            "42/42 [==============================] - 11s 260ms/step - loss: 0.2383 - accuracy: 0.9110 - val_loss: 0.2956 - val_accuracy: 0.9211 - lr: 0.0010\n",
            "Epoch 28/200\n",
            "42/42 [==============================] - ETA: 0s - loss: 0.2612 - accuracy: 0.9209\n",
            "Epoch 28: val_loss improved from 0.27512 to 0.23022, saving model to /content/drive/MyDrive/Learning Journey/rps/28-0.2302.h5\n",
            "42/42 [==============================] - 11s 272ms/step - loss: 0.2612 - accuracy: 0.9209 - val_loss: 0.2302 - val_accuracy: 0.9279 - lr: 0.0010\n",
            "Epoch 29/200\n",
            "42/42 [==============================] - ETA: 0s - loss: 0.2525 - accuracy: 0.9163\n",
            "Epoch 29: val_loss did not improve from 0.23022\n",
            "42/42 [==============================] - 11s 264ms/step - loss: 0.2525 - accuracy: 0.9163 - val_loss: 0.3054 - val_accuracy: 0.9153 - lr: 0.0010\n",
            "Epoch 30/200\n",
            "42/42 [==============================] - ETA: 0s - loss: 0.2972 - accuracy: 0.9186\n",
            "Epoch 30: val_loss did not improve from 0.23022\n",
            "42/42 [==============================] - 10s 251ms/step - loss: 0.2972 - accuracy: 0.9186 - val_loss: 0.3298 - val_accuracy: 0.9073 - lr: 0.0010\n",
            "Epoch 31/200\n",
            "42/42 [==============================] - ETA: 0s - loss: 0.2386 - accuracy: 0.9262\n",
            "Epoch 31: val_loss improved from 0.23022 to 0.21613, saving model to /content/drive/MyDrive/Learning Journey/rps/31-0.2161.h5\n",
            "42/42 [==============================] - 11s 261ms/step - loss: 0.2386 - accuracy: 0.9262 - val_loss: 0.2161 - val_accuracy: 0.9348 - lr: 0.0010\n",
            "Epoch 32/200\n",
            "42/42 [==============================] - ETA: 0s - loss: 0.2424 - accuracy: 0.9307\n",
            "Epoch 32: val_loss did not improve from 0.21613\n",
            "42/42 [==============================] - 11s 268ms/step - loss: 0.2424 - accuracy: 0.9307 - val_loss: 0.2416 - val_accuracy: 0.9222 - lr: 0.0010\n",
            "Epoch 33/200\n",
            "41/42 [============================>.] - ETA: 0s - loss: 0.2217 - accuracy: 0.9322\n",
            "Epoch 33: val_loss did not improve from 0.21613\n",
            "42/42 [==============================] - 13s 306ms/step - loss: 0.2216 - accuracy: 0.9323 - val_loss: 0.2586 - val_accuracy: 0.9256 - lr: 0.0010\n",
            "Epoch 34/200\n",
            "42/42 [==============================] - ETA: 0s - loss: 0.2595 - accuracy: 0.9262\n",
            "Epoch 34: val_loss did not improve from 0.21613\n",
            "42/42 [==============================] - 11s 254ms/step - loss: 0.2595 - accuracy: 0.9262 - val_loss: 0.2359 - val_accuracy: 0.9336 - lr: 0.0010\n",
            "Epoch 35/200\n",
            "42/42 [==============================] - ETA: 0s - loss: 0.2457 - accuracy: 0.9239\n",
            "Epoch 35: val_loss improved from 0.21613 to 0.21593, saving model to /content/drive/MyDrive/Learning Journey/rps/35-0.2159.h5\n",
            "42/42 [==============================] - 11s 261ms/step - loss: 0.2457 - accuracy: 0.9239 - val_loss: 0.2159 - val_accuracy: 0.9394 - lr: 0.0010\n",
            "Epoch 36/200\n",
            "42/42 [==============================] - ETA: 0s - loss: 0.2246 - accuracy: 0.9239\n",
            "Epoch 36: val_loss did not improve from 0.21593\n",
            "42/42 [==============================] - 11s 262ms/step - loss: 0.2246 - accuracy: 0.9239 - val_loss: 0.2489 - val_accuracy: 0.9142 - lr: 0.0010\n",
            "Epoch 37/200\n",
            "42/42 [==============================] - ETA: 0s - loss: 0.2229 - accuracy: 0.9361\n",
            "Epoch 37: val_loss did not improve from 0.21593\n",
            "42/42 [==============================] - 11s 256ms/step - loss: 0.2229 - accuracy: 0.9361 - val_loss: 0.2213 - val_accuracy: 0.9291 - lr: 0.0010\n",
            "Epoch 38/200\n",
            "42/42 [==============================] - ETA: 0s - loss: 0.2127 - accuracy: 0.9406\n",
            "Epoch 38: val_loss improved from 0.21593 to 0.19658, saving model to /content/drive/MyDrive/Learning Journey/rps/38-0.1966.h5\n",
            "42/42 [==============================] - 11s 262ms/step - loss: 0.2127 - accuracy: 0.9406 - val_loss: 0.1966 - val_accuracy: 0.9485 - lr: 0.0010\n",
            "Epoch 39/200\n",
            "42/42 [==============================] - ETA: 0s - loss: 0.2080 - accuracy: 0.9406\n",
            "Epoch 39: val_loss did not improve from 0.19658\n",
            "42/42 [==============================] - 11s 265ms/step - loss: 0.2080 - accuracy: 0.9406 - val_loss: 0.2186 - val_accuracy: 0.9359 - lr: 0.0010\n",
            "Epoch 40/200\n",
            "42/42 [==============================] - ETA: 0s - loss: 0.1951 - accuracy: 0.9490\n",
            "Epoch 40: val_loss improved from 0.19658 to 0.19451, saving model to /content/drive/MyDrive/Learning Journey/rps/40-0.1945.h5\n",
            "42/42 [==============================] - 11s 264ms/step - loss: 0.1951 - accuracy: 0.9490 - val_loss: 0.1945 - val_accuracy: 0.9371 - lr: 0.0010\n",
            "Epoch 41/200\n",
            "42/42 [==============================] - ETA: 0s - loss: 0.2001 - accuracy: 0.9467\n",
            "Epoch 41: val_loss improved from 0.19451 to 0.18868, saving model to /content/drive/MyDrive/Learning Journey/rps/41-0.1887.h5\n",
            "42/42 [==============================] - 11s 274ms/step - loss: 0.2001 - accuracy: 0.9467 - val_loss: 0.1887 - val_accuracy: 0.9485 - lr: 0.0010\n",
            "Epoch 42/200\n",
            "42/42 [==============================] - ETA: 0s - loss: 0.2602 - accuracy: 0.9292\n",
            "Epoch 42: val_loss did not improve from 0.18868\n",
            "42/42 [==============================] - 10s 252ms/step - loss: 0.2602 - accuracy: 0.9292 - val_loss: 0.2540 - val_accuracy: 0.9153 - lr: 0.0010\n",
            "Epoch 43/200\n",
            "42/42 [==============================] - ETA: 0s - loss: 0.2132 - accuracy: 0.9277\n",
            "Epoch 43: val_loss did not improve from 0.18868\n",
            "42/42 [==============================] - 10s 250ms/step - loss: 0.2132 - accuracy: 0.9277 - val_loss: 0.2363 - val_accuracy: 0.9199 - lr: 0.0010\n",
            "Epoch 44/200\n",
            "42/42 [==============================] - ETA: 0s - loss: 0.2207 - accuracy: 0.9346\n",
            "Epoch 44: val_loss did not improve from 0.18868\n",
            "42/42 [==============================] - 11s 262ms/step - loss: 0.2207 - accuracy: 0.9346 - val_loss: 0.2710 - val_accuracy: 0.8970 - lr: 0.0010\n",
            "Epoch 45/200\n",
            "42/42 [==============================] - ETA: 0s - loss: 0.2071 - accuracy: 0.9338\n",
            "Epoch 45: val_loss did not improve from 0.18868\n",
            "42/42 [==============================] - 11s 252ms/step - loss: 0.2071 - accuracy: 0.9338 - val_loss: 0.2195 - val_accuracy: 0.9428 - lr: 0.0010\n",
            "Epoch 46/200\n",
            "42/42 [==============================] - ETA: 0s - loss: 0.2011 - accuracy: 0.9346\n",
            "Epoch 46: val_loss did not improve from 0.18868\n",
            "42/42 [==============================] - 10s 252ms/step - loss: 0.2011 - accuracy: 0.9346 - val_loss: 0.2671 - val_accuracy: 0.9119 - lr: 0.0010\n"
          ]
        }
      ]
    },
    {
      "cell_type": "code",
      "source": [
        "import matplotlib.pyplot as plt\n",
        "\n",
        "def graph_history(title, subtitle, interval):\n",
        "    plt.plot(history.history[title], label = title)\n",
        "    plt.plot(history.history[subtitle], label = subtitle)\n",
        "    plt.xlabel('Epoch')\n",
        "    plt.ylabel(title)\n",
        "    plt.ylim(interval)\n",
        "    plt.legend(loc='lower right')"
      ],
      "metadata": {
        "id": "90iU4vYhHV4m"
      },
      "execution_count": 46,
      "outputs": []
    },
    {
      "cell_type": "code",
      "source": [
        "graph_history('loss', 'val_loss', [0.0, 1.2])"
      ],
      "metadata": {
        "colab": {
          "base_uri": "https://localhost:8080/",
          "height": 304
        },
        "id": "vBgHZ_w1Opg5",
        "outputId": "a4b54441-79de-443a-92c5-e013747ff0e5"
      },
      "execution_count": 47,
      "outputs": [
        {
          "output_type": "display_data",
          "data": {
            "text/plain": [
              "<Figure size 432x288 with 1 Axes>"
            ],
            "image/png": "[encoded data removed]"
          },
          "metadata": {
            "needs_background": "light"
          }
        }
      ]
    },
    {
      "cell_type": "code",
      "source": [
        "graph_history('accuracy', 'val_accuracy', [0.0, 1.0])"
      ],
      "metadata": {
        "colab": {
          "base_uri": "https://localhost:8080/",
          "height": 304
        },
        "id": "flnJbFs-OrQS",
        "outputId": "8c2a4ce3-4b4c-4313-fd8d-d59e40235176"
      },
      "execution_count": 48,
      "outputs": [
        {
          "output_type": "display_data",
          "data": {
            "text/plain": [
              "<Figure size 432x288 with 1 Axes>"
            ],
            "image/png": "[encoded data removed]"
          },
          "metadata": {
            "needs_background": "light"
          }
        }
      ]
    },
    {
      "cell_type": "code",
      "source": [
        "from google.colab import files\n",
        "from keras.utils import load_img, img_to_array\n",
        "from keras.models import load_model\n",
        "import numpy as np\n",
        "\n",
        "uploaded = files.upload()\n",
        "for fn in uploaded.keys():\n",
        "  path = fn\n",
        "  img_source = load_img(path, target_size = (60, 90))\n",
        "  imgplot = plt.imshow(img_source)\n",
        "  x = img_to_array(img_source)\n",
        "  x = np.expand_dims(x, axis = 0)\n",
        "\n",
        "  images = np.vstack([x])\n",
        "  classes = model.predict(images, batch_size = 10)\n",
        "\n",
        "  print(fn)\n",
        "  if classes[0, 0] == 1:\n",
        "    print('rock')\n",
        "  elif classes[0, 1] == 1:\n",
        "    print('paper')\n",
        "  elif classes[0, 2] == 1:\n",
        "    print('scissors')"
      ],
      "metadata": {
        "colab": {
          "base_uri": "https://localhost:8080/",
          "height": 400
        },
        "id": "9aSP7635OyNI",
        "outputId": "0703a097-dd97-4d92-9a50-d8b8962cc6f0"
      },
      "execution_count": 57,
      "outputs": [
        {
          "output_type": "display_data",
          "data": {
            "text/plain": [
              "<IPython.core.display.HTML object>"
            ],
            "text/html": [
              "\n",
              "     <input type=\"file\" id=\"files-b4c1bbfc-2aee-4595-9417-56d53dcf37e3\" name=\"files[]\" multiple disabled\n",
              "        style=\"border:none\" />\n",
              "     <output id=\"result-b4c1bbfc-2aee-4595-9417-56d53dcf37e3\">\n",
              "      Upload widget is only available when the cell has been executed in the\n",
              "      current browser session. Please rerun this cell to enable.\n",
              "      </output>\n",
              "      <script>// Copyright 2017 Google LLC\n",
              "//\n",
              "// Licensed under the Apache License, Version 2.0 (the \"License\");\n",
              "// you may not use this file except in compliance with the License.\n",
              "// You may obtain a copy of the License at\n",
              "//\n",
              "//      http://www.apache.org/licenses/LICENSE-2.0\n",
              "//\n",
              "// Unless required by applicable law or agreed to in writing, software\n",
              "// distributed under the License is distributed on an \"AS IS\" BASIS,\n",
              "// WITHOUT WARRANTIES OR CONDITIONS OF ANY KIND, either express or implied.\n",
              "// See the License for the specific language governing permissions and\n",
              "// limitations under the License.\n",
              "\n",
              "/**\n",
              " * @fileoverview Helpers for google.colab Python module.\n",
              " */\n",
              "(function(scope) {\n",
              "function span(text, styleAttributes = {}) {\n",
              "  const element = document.createElement('span');\n",
              "  element.textContent = text;\n",
              "  for (const key of Object.keys(styleAttributes)) {\n",
              "    element.style[key] = styleAttributes[key];\n",
              "  }\n",
              "  return element;\n",
              "}\n",
              "\n",
              "// Max number of bytes which will be uploaded at a time.\n",
              "const MAX_PAYLOAD_SIZE = 100 * 1024;\n",
              "\n",
              "function _uploadFiles(inputId, outputId) {\n",
              "  const steps = uploadFilesStep(inputId, outputId);\n",
              "  const outputElement = document.getElementById(outputId);\n",
              "  // Cache steps on the outputElement to make it available for the next call\n",
              "  // to uploadFilesContinue from Python.\n",
              "  outputElement.steps = steps;\n",
              "\n",
              "  return _uploadFilesContinue(outputId);\n",
              "}\n",
              "\n",
              "// This is roughly an async generator (not supported in the browser yet),\n",
              "// where there are multiple asynchronous steps and the Python side is going\n",
              "// to poll for completion of each step.\n",
              "// This uses a Promise to block the python side on completion of each step,\n",
              "// then passes the result of the previous step as the input to the next step.\n",
              "function _uploadFilesContinue(outputId) {\n",
              "  const outputElement = document.getElementById(outputId);\n",
              "  const steps = outputElement.steps;\n",
              "\n",
              "  const next = steps.next(outputElement.lastPromiseValue);\n",
              "  return Promise.resolve(next.value.promise).then((value) => {\n",
              "    // Cache the last promise value to make it available to the next\n",
              "    // step of the generator.\n",
              "    outputElement.lastPromiseValue = value;\n",
              "    return next.value.response;\n",
              "  });\n",
              "}\n",
              "\n",
              "/**\n",
              " * Generator function which is called between each async step of the upload\n",
              " * process.\n",
              " * @param {string} inputId Element ID of the input file picker element.\n",
              " * @param {string} outputId Element ID of the output display.\n",
              " * @return {!Iterable<!Object>} Iterable of next steps.\n",
              " */\n",
              "function* uploadFilesStep(inputId, outputId) {\n",
              "  const inputElement = document.getElementById(inputId);\n",
              "  inputElement.disabled = false;\n",
              "\n",
              "  const outputElement = document.getElementById(outputId);\n",
              "  outputElement.innerHTML = '';\n",
              "\n",
              "  const pickedPromise = new Promise((resolve) => {\n",
              "    inputElement.addEventListener('change', (e) => {\n",
              "      resolve(e.target.files);\n",
              "    });\n",
              "  });\n",
              "\n",
              "  const cancel = document.createElement('button');\n",
              "  inputElement.parentElement.appendChild(cancel);\n",
              "  cancel.textContent = 'Cancel upload';\n",
              "  const cancelPromise = new Promise((resolve) => {\n",
              "    cancel.onclick = () => {\n",
              "      resolve(null);\n",
              "    };\n",
              "  });\n",
              "\n",
              "  // Wait for the user to pick the files.\n",
              "  const files = yield {\n",
              "    promise: Promise.race([pickedPromise, cancelPromise]),\n",
              "    response: {\n",
              "      action: 'starting',\n",
              "    }\n",
              "  };\n",
              "\n",
              "  cancel.remove();\n",
              "\n",
              "  // Disable the input element since further picks are not allowed.\n",
              "  inputElement.disabled = true;\n",
              "\n",
              "  if (!files) {\n",
              "    return {\n",
              "      response: {\n",
              "        action: 'complete',\n",
              "      }\n",
              "    };\n",
              "  }\n",
              "\n",
              "  for (const file of files) {\n",
              "    const li = document.createElement('li');\n",
              "    li.append(span(file.name, {fontWeight: 'bold'}));\n",
              "    li.append(span(\n",
              "        `(${file.type || 'n/a'}) - ${file.size} bytes, ` +\n",
              "        `last modified: ${\n",
              "            file.lastModifiedDate ? file.lastModifiedDate.toLocaleDateString() :\n",
              "                                    'n/a'} - `));\n",
              "    const percent = span('0% done');\n",
              "    li.appendChild(percent);\n",
              "\n",
              "    outputElement.appendChild(li);\n",
              "\n",
              "    const fileDataPromise = new Promise((resolve) => {\n",
              "      const reader = new FileReader();\n",
              "      reader.onload = (e) => {\n",
              "        resolve(e.target.result);\n",
              "      };\n",
              "      reader.readAsArrayBuffer(file);\n",
              "    });\n",
              "    // Wait for the data to be ready.\n",
              "    let fileData = yield {\n",
              "      promise: fileDataPromise,\n",
              "      response: {\n",
              "        action: 'continue',\n",
              "      }\n",
              "    };\n",
              "\n",
              "    // Use a chunked sending to avoid message size limits. See b/62115660.\n",
              "    let position = 0;\n",
              "    do {\n",
              "      const length = Math.min(fileData.byteLength - position, MAX_PAYLOAD_SIZE);\n",
              "      const chunk = new Uint8Array(fileData, position, length);\n",
              "      position += length;\n",
              "\n",
              "      const base64 = btoa(String.fromCharCode.apply(null, chunk));\n",
              "      yield {\n",
              "        response: {\n",
              "          action: 'append',\n",
              "          file: file.name,\n",
              "          data: base64,\n",
              "        },\n",
              "      };\n",
              "\n",
              "      let percentDone = fileData.byteLength === 0 ?\n",
              "          100 :\n",
              "          Math.round((position / fileData.byteLength) * 100);\n",
              "      percent.textContent = `${percentDone}% done`;\n",
              "\n",
              "    } while (position < fileData.byteLength);\n",
              "  }\n",
              "\n",
              "  // All done.\n",
              "  yield {\n",
              "    response: {\n",
              "      action: 'complete',\n",
              "    }\n",
              "  };\n",
              "}\n",
              "\n",
              "scope.google = scope.google || {};\n",
              "scope.google.colab = scope.google.colab || {};\n",
              "scope.google.colab._files = {\n",
              "  _uploadFiles,\n",
              "  _uploadFilesContinue,\n",
              "};\n",
              "})(self);\n",
              "</script> "
            ]
          },
          "metadata": {}
        },
        {
          "output_type": "stream",
          "name": "stdout",
          "text": [
            "Saving IMG_9113.jpg to IMG_9113.jpg\n",
            "1/1 [==============================] - 0s 48ms/step\n",
            "IMG_9113.jpg\n",
            "rock\n"
          ]
        },
        {
          "output_type": "display_data",
          "data": {
            "text/plain": [
              "<Figure size 432x288 with 1 Axes>"
            ],
            "image/png": "[encoded data removed]"
          },
          "metadata": {
            "needs_background": "light"
          }
        }
      ]
    }
  ]
}