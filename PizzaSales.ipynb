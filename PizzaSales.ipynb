{
  "nbformat": 4,
  "nbformat_minor": 0,
  "metadata": {
    "colab": {
      "provenance": [],
      "authorship_tag": "ABX9TyPY0/mJf8LCTbv2g3hD/nlI",
      "include_colab_link": true
    },
    "kernelspec": {
      "name": "python3",
      "display_name": "Python 3"
    },
    "language_info": {
      "name": "python"
    }
  },
  "cells": [
    {
      "cell_type": "markdown",
      "metadata": {
        "id": "view-in-github",
        "colab_type": "text"
      },
      "source": [
        "<a href=\"https://colab.research.google.com/github/oktaviacitra/classification/blob/main/PizzaSales.ipynb\" target=\"_parent\"><img src=\"https://colab.research.google.com/assets/colab-badge.svg\" alt=\"Open In Colab\"/></a>"
      ]
    },
    {
      "cell_type": "code",
      "execution_count": 7,
      "metadata": {
        "id": "ogJ0m8mVfDvh",
        "colab": {
          "base_uri": "https://localhost:8080/"
        },
        "outputId": "fc220bcf-58d2-4b83-8cdc-5927fd01bd3c"
      },
      "outputs": [
        {
          "output_type": "stream",
          "name": "stdout",
          "text": [
            "Drive already mounted at /content/drive; to attempt to forcibly remount, call drive.mount(\"/content/drive\", force_remount=True).\n"
          ]
        }
      ],
      "source": [
        "from google.colab import drive\n",
        "\n",
        "origin_path = \"/content/drive\"\n",
        "drive.mount(origin_path)"
      ]
    },
    {
      "cell_type": "code",
      "source": [
        "import pandas as pd\n",
        "\n",
        "dataset_path = \"/content/drive/MyDrive/Learning Journey/Pizza Sales/dataset.xlsx\"\n",
        "dataframe = pd.read_excel(dataset_path)\n",
        "dataframe.head(3)"
      ],
      "metadata": {
        "id": "cBvIhJk-fF-1"
      },
      "execution_count": null,
      "outputs": []
    },
    {
      "cell_type": "code",
      "source": [
        "dataframe.isna().sum()"
      ],
      "metadata": {
        "id": "xtijSUqMQuvd"
      },
      "execution_count": null,
      "outputs": []
    },
    {
      "cell_type": "code",
      "source": [
        "dataframe.info()"
      ],
      "metadata": {
        "id": "sx8Z1qwLqdsq"
      },
      "execution_count": null,
      "outputs": []
    },
    {
      "cell_type": "code",
      "source": [
        "%matplotlib inline\n",
        "import matplotlib.pyplot as plt\n",
        "\n",
        "dataframe['month'] = pd.DatetimeIndex(dataframe['order_date']).month\n",
        "dataframe_sales= dataframe.groupby(\"month\").sum()\n",
        "months=range(1,13)\n",
        "plt.figure(figsize=(10,5))\n",
        "plt.plot(months,dataframe_sales['total_price'],color='green', marker=\"*\")\n",
        "plt.xticks(months)\n",
        "plt.xlabel('Months', color='g')\n",
        "plt.ylabel('Sales in USD',color='g')\n",
        "plt.title(\"Monthly Sales Revenue\")  \n",
        "plt.show()"
      ],
      "metadata": {
        "id": "TaNu1PHnFV3m"
      },
      "execution_count": null,
      "outputs": []
    },
    {
      "cell_type": "code",
      "source": [
        "pizza_sum = dataframe.groupby(\"pizza_name\").sum()\n",
        "pizza_names =[name for name, df in dataframe.groupby('pizza_name')]\n",
        "plt.figure(figsize=(15,5))\n",
        "plt.bar(pizza_names,pizza_sum['quantity'],color=\"brown\")\n",
        "plt.xticks(pizza_names,rotation='vertical',size=10)\n",
        "plt.xlabel('Pizza Names',color='brown')\n",
        "plt.ylabel('Quantity Ordered',color='brown')\n",
        "plt.show()"
      ],
      "metadata": {
        "id": "7CFduxKFJ1eF"
      },
      "execution_count": null,
      "outputs": []
    }
  ]
}