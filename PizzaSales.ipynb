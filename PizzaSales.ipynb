{
  "nbformat": 4,
  "nbformat_minor": 0,
  "metadata": {
    "colab": {
      "provenance": [],
      "authorship_tag": "ABX9TyPpiRMK/RK2bCHpdiGkMriE",
      "include_colab_link": true
    },
    "kernelspec": {
      "name": "python3",
      "display_name": "Python 3"
    },
    "language_info": {
      "name": "python"
    }
  },
  "cells": [
    {
      "cell_type": "markdown",
      "metadata": {
        "id": "view-in-github",
        "colab_type": "text"
      },
      "source": [
        "<a href=\"https://colab.research.google.com/github/oktaviacitra/classification/blob/main/PizzaSales.ipynb\" target=\"_parent\"><img src=\"https://colab.research.google.com/assets/colab-badge.svg\" alt=\"Open In Colab\"/></a>"
      ]
    },
    {
      "cell_type": "code",
      "execution_count": 1,
      "metadata": {
        "colab": {
          "base_uri": "https://localhost:8080/"
        },
        "id": "ogJ0m8mVfDvh",
        "outputId": "69b17293-7890-445a-cfc4-d154138650d1"
      },
      "outputs": [
        {
          "output_type": "stream",
          "name": "stdout",
          "text": [
            "Mounted at /content/drive\n"
          ]
        }
      ],
      "source": [
        "from google.colab import drive\n",
        "\n",
        "origin_path = \"/content/drive\"\n",
        "drive.mount(origin_path)"
      ]
    },
    {
      "cell_type": "code",
      "source": [
        "import pandas as pd\n",
        "\n",
        "dataset_path = \"/content/drive/MyDrive/Learning Journey/Pizza Sales/dataset.xlsx\"\n",
        "dataframe = pd.read_excel(dataset_path)\n",
        "dataframe.head(3)"
      ],
      "metadata": {
        "colab": {
          "base_uri": "https://localhost:8080/",
          "height": 333
        },
        "id": "cBvIhJk-fF-1",
        "outputId": "4d5bb64e-aef2-46ce-b148-c6fd82349acd"
      },
      "execution_count": 2,
      "outputs": [
        {
          "output_type": "execute_result",
          "data": {
            "text/plain": [
              "   order_details_id  order_id       pizza_id  quantity order_date order_time  \\\n",
              "0                 1         1     hawaiian_m         1 2015-01-01   11:38:36   \n",
              "1                 2         2  classic_dlx_m         1 2015-01-01   11:57:40   \n",
              "2                 3         2  five_cheese_l         1 2015-01-01   11:57:40   \n",
              "\n",
              "   unit_price  total_price pizza_size pizza_category  \\\n",
              "0       13.25        13.25          M        Classic   \n",
              "1       16.00        16.00          M        Classic   \n",
              "2       18.50        18.50          L         Veggie   \n",
              "\n",
              "                                   pizza_ingredients                pizza_name  \n",
              "0           Sliced Ham, Pineapple, Mozzarella Cheese        The Hawaiian Pizza  \n",
              "1  Pepperoni, Mushrooms, Red Onions, Red Peppers,...  The Classic Deluxe Pizza  \n",
              "2  Mozzarella Cheese, Provolone Cheese, Smoked Go...     The Five Cheese Pizza  "
            ],
            "text/html": [
              "\n",
              "  <div id=\"df-425e76a8-467f-4400-87b4-83a9193caddc\">\n",
              "    <div class=\"colab-df-container\">\n",
              "      <div>\n",
              "<style scoped>\n",
              "    .dataframe tbody tr th:only-of-type {\n",
              "        vertical-align: middle;\n",
              "    }\n",
              "\n",
              "    .dataframe tbody tr th {\n",
              "        vertical-align: top;\n",
              "    }\n",
              "\n",
              "    .dataframe thead th {\n",
              "        text-align: right;\n",
              "    }\n",
              "</style>\n",
              "<table border=\"1\" class=\"dataframe\">\n",
              "  <thead>\n",
              "    <tr style=\"text-align: right;\">\n",
              "      <th></th>\n",
              "      <th>order_details_id</th>\n",
              "      <th>order_id</th>\n",
              "      <th>pizza_id</th>\n",
              "      <th>quantity</th>\n",
              "      <th>order_date</th>\n",
              "      <th>order_time</th>\n",
              "      <th>unit_price</th>\n",
              "      <th>total_price</th>\n",
              "      <th>pizza_size</th>\n",
              "      <th>pizza_category</th>\n",
              "      <th>pizza_ingredients</th>\n",
              "      <th>pizza_name</th>\n",
              "    </tr>\n",
              "  </thead>\n",
              "  <tbody>\n",
              "    <tr>\n",
              "      <th>0</th>\n",
              "      <td>1</td>\n",
              "      <td>1</td>\n",
              "      <td>hawaiian_m</td>\n",
              "      <td>1</td>\n",
              "      <td>2015-01-01</td>\n",
              "      <td>11:38:36</td>\n",
              "      <td>13.25</td>\n",
              "      <td>13.25</td>\n",
              "      <td>M</td>\n",
              "      <td>Classic</td>\n",
              "      <td>Sliced Ham, Pineapple, Mozzarella Cheese</td>\n",
              "      <td>The Hawaiian Pizza</td>\n",
              "    </tr>\n",
              "    <tr>\n",
              "      <th>1</th>\n",
              "      <td>2</td>\n",
              "      <td>2</td>\n",
              "      <td>classic_dlx_m</td>\n",
              "      <td>1</td>\n",
              "      <td>2015-01-01</td>\n",
              "      <td>11:57:40</td>\n",
              "      <td>16.00</td>\n",
              "      <td>16.00</td>\n",
              "      <td>M</td>\n",
              "      <td>Classic</td>\n",
              "      <td>Pepperoni, Mushrooms, Red Onions, Red Peppers,...</td>\n",
              "      <td>The Classic Deluxe Pizza</td>\n",
              "    </tr>\n",
              "    <tr>\n",
              "      <th>2</th>\n",
              "      <td>3</td>\n",
              "      <td>2</td>\n",
              "      <td>five_cheese_l</td>\n",
              "      <td>1</td>\n",
              "      <td>2015-01-01</td>\n",
              "      <td>11:57:40</td>\n",
              "      <td>18.50</td>\n",
              "      <td>18.50</td>\n",
              "      <td>L</td>\n",
              "      <td>Veggie</td>\n",
              "      <td>Mozzarella Cheese, Provolone Cheese, Smoked Go...</td>\n",
              "      <td>The Five Cheese Pizza</td>\n",
              "    </tr>\n",
              "  </tbody>\n",
              "</table>\n",
              "</div>\n",
              "      <button class=\"colab-df-convert\" onclick=\"convertToInteractive('df-425e76a8-467f-4400-87b4-83a9193caddc')\"\n",
              "              title=\"Convert this dataframe to an interactive table.\"\n",
              "              style=\"display:none;\">\n",
              "        \n",
              "  <svg xmlns=\"http://www.w3.org/2000/svg\" height=\"24px\"viewBox=\"0 0 24 24\"\n",
              "       width=\"24px\">\n",
              "    <path d=\"M0 0h24v24H0V0z\" fill=\"none\"/>\n",
              "    <path d=\"M18.56 5.44l.94 2.06.94-2.06 2.06-.94-2.06-.94-.94-2.06-.94 2.06-2.06.94zm-11 1L8.5 8.5l.94-2.06 2.06-.94-2.06-.94L8.5 2.5l-.94 2.06-2.06.94zm10 10l.94 2.06.94-2.06 2.06-.94-2.06-.94-.94-2.06-.94 2.06-2.06.94z\"/><path d=\"M17.41 7.96l-1.37-1.37c-.4-.4-.92-.59-1.43-.59-.52 0-1.04.2-1.43.59L10.3 9.45l-7.72 7.72c-.78.78-.78 2.05 0 2.83L4 21.41c.39.39.9.59 1.41.59.51 0 1.02-.2 1.41-.59l7.78-7.78 2.81-2.81c.8-.78.8-2.07 0-2.86zM5.41 20L4 18.59l7.72-7.72 1.47 1.35L5.41 20z\"/>\n",
              "  </svg>\n",
              "      </button>\n",
              "      \n",
              "  <style>\n",
              "    .colab-df-container {\n",
              "      display:flex;\n",
              "      flex-wrap:wrap;\n",
              "      gap: 12px;\n",
              "    }\n",
              "\n",
              "    .colab-df-convert {\n",
              "      background-color: #E8F0FE;\n",
              "      border: none;\n",
              "      border-radius: 50%;\n",
              "      cursor: pointer;\n",
              "      display: none;\n",
              "      fill: #1967D2;\n",
              "      height: 32px;\n",
              "      padding: 0 0 0 0;\n",
              "      width: 32px;\n",
              "    }\n",
              "\n",
              "    .colab-df-convert:hover {\n",
              "      background-color: #E2EBFA;\n",
              "      box-shadow: 0px 1px 2px rgba(60, 64, 67, 0.3), 0px 1px 3px 1px rgba(60, 64, 67, 0.15);\n",
              "      fill: #174EA6;\n",
              "    }\n",
              "\n",
              "    [theme=dark] .colab-df-convert {\n",
              "      background-color: #3B4455;\n",
              "      fill: #D2E3FC;\n",
              "    }\n",
              "\n",
              "    [theme=dark] .colab-df-convert:hover {\n",
              "      background-color: #434B5C;\n",
              "      box-shadow: 0px 1px 3px 1px rgba(0, 0, 0, 0.15);\n",
              "      filter: drop-shadow(0px 1px 2px rgba(0, 0, 0, 0.3));\n",
              "      fill: #FFFFFF;\n",
              "    }\n",
              "  </style>\n",
              "\n",
              "      <script>\n",
              "        const buttonEl =\n",
              "          document.querySelector('#df-425e76a8-467f-4400-87b4-83a9193caddc button.colab-df-convert');\n",
              "        buttonEl.style.display =\n",
              "          google.colab.kernel.accessAllowed ? 'block' : 'none';\n",
              "\n",
              "        async function convertToInteractive(key) {\n",
              "          const element = document.querySelector('#df-425e76a8-467f-4400-87b4-83a9193caddc');\n",
              "          const dataTable =\n",
              "            await google.colab.kernel.invokeFunction('convertToInteractive',\n",
              "                                                     [key], {});\n",
              "          if (!dataTable) return;\n",
              "\n",
              "          const docLinkHtml = 'Like what you see? Visit the ' +\n",
              "            '<a target=\"_blank\" href=https://colab.research.google.com/notebooks/data_table.ipynb>data table notebook</a>'\n",
              "            + ' to learn more about interactive tables.';\n",
              "          element.innerHTML = '';\n",
              "          dataTable['output_type'] = 'display_data';\n",
              "          await google.colab.output.renderOutput(dataTable, element);\n",
              "          const docLink = document.createElement('div');\n",
              "          docLink.innerHTML = docLinkHtml;\n",
              "          element.appendChild(docLink);\n",
              "        }\n",
              "      </script>\n",
              "    </div>\n",
              "  </div>\n",
              "  "
            ]
          },
          "metadata": {},
          "execution_count": 2
        }
      ]
    },
    {
      "cell_type": "code",
      "source": [
        "dataframe.isna().sum()"
      ],
      "metadata": {
        "colab": {
          "base_uri": "https://localhost:8080/"
        },
        "id": "xtijSUqMQuvd",
        "outputId": "77f311a7-c533-4d6f-bc89-d3e8b8497838"
      },
      "execution_count": 3,
      "outputs": [
        {
          "output_type": "execute_result",
          "data": {
            "text/plain": [
              "order_details_id     0\n",
              "order_id             0\n",
              "pizza_id             0\n",
              "quantity             0\n",
              "order_date           0\n",
              "order_time           0\n",
              "unit_price           0\n",
              "total_price          0\n",
              "pizza_size           0\n",
              "pizza_category       0\n",
              "pizza_ingredients    0\n",
              "pizza_name           0\n",
              "dtype: int64"
            ]
          },
          "metadata": {},
          "execution_count": 3
        }
      ]
    },
    {
      "cell_type": "code",
      "source": [
        "%matplotlib inline\n",
        "import matplotlib.pyplot as plt\n",
        "\n",
        "dataframe['month'] = pd.DatetimeIndex(dataframe['order_date']).month\n",
        "dataframe_sales= dataframe.groupby(\"month\").sum()\n",
        "months=range(1,13)\n",
        "plt.figure(figsize=(10,5))\n",
        "plt.plot(months,dataframe_sales['total_price'],color='green', marker=\"*\")\n",
        "plt.xticks(months)\n",
        "plt.xlabel('Months', color='g')\n",
        "plt.ylabel('Sales in USD',color='g')\n",
        "plt.title(\"Monthly Sales Revenue\")  \n",
        "plt.show()"
      ],
      "metadata": {
        "colab": {
          "base_uri": "https://localhost:8080/",
          "height": 370
        },
        "id": "TaNu1PHnFV3m",
        "outputId": "1e76c020-956d-4ebd-934f-06604d442161"
      },
      "execution_count": 4,
      "outputs": [
        {
          "output_type": "display_data",
          "data": {
            "text/plain": [
              "<Figure size 720x360 with 1 Axes>"
            ],
            "image/png": "[encoded data removed]"
          },
          "metadata": {
            "needs_background": "light"
          }
        }
      ]
    }
  ]
}