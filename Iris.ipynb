{
  "nbformat": 4,
  "nbformat_minor": 0,
  "metadata": {
    "colab": {
      "provenance": [],
      "collapsed_sections": [],
      "authorship_tag": "ABX9TyM7Zet7GkcSzEeW6rDlH+mZ",
      "include_colab_link": true
    },
    "kernelspec": {
      "name": "python3",
      "display_name": "Python 3"
    },
    "language_info": {
      "name": "python"
    }
  },
  "cells": [
    {
      "cell_type": "markdown",
      "metadata": {
        "id": "view-in-github",
        "colab_type": "text"
      },
      "source": [
        "<a href=\"https://colab.research.google.com/github/oktaviacitra/classification/blob/main/Iris.ipynb\" target=\"_parent\"><img src=\"https://colab.research.google.com/assets/colab-badge.svg\" alt=\"Open In Colab\"/></a>"
      ]
    },
    {
      "cell_type": "code",
      "execution_count": 1,
      "metadata": {
        "id": "hPgM7CCVOkqx"
      },
      "outputs": [],
      "source": [
        "from sklearn.datasets import load_iris\n",
        "\n",
        "iris = load_iris()\n",
        "X, y = iris.data, iris.target"
      ]
    },
    {
      "cell_type": "code",
      "source": [
        "from sklearn.preprocessing import StandardScaler\n",
        "from sklearn.pipeline import Pipeline\n",
        "from sklearn.tree import DecisionTreeClassifier\n",
        "\n",
        "pipeline = Pipeline(\n",
        "    [\n",
        "        ('scaler', StandardScaler()), \n",
        "        ('model', DecisionTreeClassifier(random_state=21))\n",
        "    ]\n",
        ")"
      ],
      "metadata": {
        "id": "beAoVWx8r1S3"
      },
      "execution_count": 7,
      "outputs": []
    },
    {
      "cell_type": "code",
      "source": [
        "pipeline.get_params()"
      ],
      "metadata": {
        "colab": {
          "base_uri": "https://localhost:8080/"
        },
        "id": "BaQXA7Brsl8l",
        "outputId": "15269169-a4b8-4c5e-e24b-035e94fb49a2"
      },
      "execution_count": 8,
      "outputs": [
        {
          "output_type": "execute_result",
          "data": {
            "text/plain": [
              "{'memory': None,\n",
              " 'steps': [('scaler', StandardScaler()),\n",
              "  ('model', DecisionTreeClassifier(random_state=21))],\n",
              " 'verbose': False,\n",
              " 'scaler': StandardScaler(),\n",
              " 'model': DecisionTreeClassifier(random_state=21),\n",
              " 'scaler__copy': True,\n",
              " 'scaler__with_mean': True,\n",
              " 'scaler__with_std': True,\n",
              " 'model__ccp_alpha': 0.0,\n",
              " 'model__class_weight': None,\n",
              " 'model__criterion': 'gini',\n",
              " 'model__max_depth': None,\n",
              " 'model__max_features': None,\n",
              " 'model__max_leaf_nodes': None,\n",
              " 'model__min_impurity_decrease': 0.0,\n",
              " 'model__min_samples_leaf': 1,\n",
              " 'model__min_samples_split': 2,\n",
              " 'model__min_weight_fraction_leaf': 0.0,\n",
              " 'model__random_state': 21,\n",
              " 'model__splitter': 'best'}"
            ]
          },
          "metadata": {},
          "execution_count": 8
        }
      ]
    }
  ]
}