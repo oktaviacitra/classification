{
  "nbformat": 4,
  "nbformat_minor": 0,
  "metadata": {
    "colab": {
      "provenance": [],
      "collapsed_sections": [],
      "authorship_tag": "ABX9TyPPhKJhVn6MzL7lWF8oTD2b",
      "include_colab_link": true
    },
    "kernelspec": {
      "name": "python3",
      "display_name": "Python 3"
    },
    "language_info": {
      "name": "python"
    }
  },
  "cells": [
    {
      "cell_type": "markdown",
      "metadata": {
        "id": "view-in-github",
        "colab_type": "text"
      },
      "source": [
        "<a href=\"https://colab.research.google.com/github/oktaviacitra/classification/blob/main/Iris.ipynb\" target=\"_parent\"><img src=\"https://colab.research.google.com/assets/colab-badge.svg\" alt=\"Open In Colab\"/></a>"
      ]
    },
    {
      "cell_type": "code",
      "execution_count": null,
      "metadata": {
        "id": "hPgM7CCVOkqx"
      },
      "outputs": [],
      "source": [
        "from sklearn.datasets import load_iris\n",
        "\n",
        "iris = load_iris()\n",
        "X, y = iris.data, iris.target"
      ]
    },
    {
      "cell_type": "code",
      "source": [
        "from sklearn.preprocessing import StandardScaler\n",
        "from sklearn.pipeline import Pipeline\n",
        "from sklearn.tree import DecisionTreeClassifier\n",
        "\n",
        "pipeline = Pipeline(\n",
        "    [\n",
        "        ('scaler', StandardScaler()), \n",
        "        ('model', DecisionTreeClassifier(random_state=21))\n",
        "    ]\n",
        ")"
      ],
      "metadata": {
        "id": "beAoVWx8r1S3"
      },
      "execution_count": null,
      "outputs": []
    },
    {
      "cell_type": "code",
      "source": [
        "pipeline.get_params()"
      ],
      "metadata": {
        "colab": {
          "base_uri": "https://localhost:8080/"
        },
        "id": "BaQXA7Brsl8l",
        "outputId": "a32b87b6-5756-41d6-b554-b03fe42b4f2d"
      },
      "execution_count": null,
      "outputs": [
        {
          "output_type": "execute_result",
          "data": {
            "text/plain": [
              "{'memory': None,\n",
              " 'steps': [('scaler', StandardScaler()),\n",
              "  ('model', DecisionTreeClassifier(random_state=21))],\n",
              " 'verbose': False,\n",
              " 'scaler': StandardScaler(),\n",
              " 'model': DecisionTreeClassifier(random_state=21),\n",
              " 'scaler__copy': True,\n",
              " 'scaler__with_mean': True,\n",
              " 'scaler__with_std': True,\n",
              " 'model__ccp_alpha': 0.0,\n",
              " 'model__class_weight': None,\n",
              " 'model__criterion': 'gini',\n",
              " 'model__max_depth': None,\n",
              " 'model__max_features': None,\n",
              " 'model__max_leaf_nodes': None,\n",
              " 'model__min_impurity_decrease': 0.0,\n",
              " 'model__min_samples_leaf': 1,\n",
              " 'model__min_samples_split': 2,\n",
              " 'model__min_weight_fraction_leaf': 0.0,\n",
              " 'model__random_state': 21,\n",
              " 'model__splitter': 'best'}"
            ]
          },
          "metadata": {},
          "execution_count": 3
        }
      ]
    },
    {
      "cell_type": "code",
      "source": [
        "from sklearn.model_selection import GridSearchCV\n",
        "\n",
        "param_grid = {'model__splitter': ['best', 'random'],\n",
        "              'model__criterion': ['gini', 'entropy', 'log_loss'],\n",
        "              'model__min_samples_leaf': [1, 1.5, 2, 2.5, 3],\n",
        "              'model__min_samples_leaf': [0.5, 1, 1.5],\n",
        "              'model__min_weight_fraction_leaf': [0.0, 0.01, 0.001],\n",
        "              'model__min_impurity_decrease': [0.0, 0.01],\n",
        "              'model__ccp_alpha': [0.0099, 0.01, 0.0]\n",
        "              }\n",
        "\n",
        "search = GridSearchCV(\n",
        "    estimator = pipeline,\n",
        "    param_grid = param_grid,\n",
        "    n_jobs=-1,\n",
        "    scoring=\"neg_mean_squared_error\",\n",
        "    cv=5,\n",
        "    verbose=3\n",
        ")\n",
        "\n",
        "search.fit(X, y)"
      ],
      "metadata": {
        "colab": {
          "base_uri": "https://localhost:8080/"
        },
        "id": "mQ_70FC20eUK",
        "outputId": "fa876d55-1da2-451a-9426-92bd1009b3fa"
      },
      "execution_count": null,
      "outputs": [
        {
          "output_type": "stream",
          "name": "stdout",
          "text": [
            "Fitting 5 folds for each of 324 candidates, totalling 1620 fits\n"
          ]
        },
        {
          "output_type": "stream",
          "name": "stderr",
          "text": [
            "/usr/local/lib/python3.7/dist-packages/sklearn/model_selection/_validation.py:372: FitFailedWarning: \n",
            "900 fits failed out of a total of 1620.\n",
            "The score on these train-test partitions for these parameters will be set to nan.\n",
            "If these failures are not expected, you can try to debug them by setting error_score='raise'.\n",
            "\n",
            "Below are more details about the failures:\n",
            "--------------------------------------------------------------------------------\n",
            "540 fits failed with the following error:\n",
            "Traceback (most recent call last):\n",
            "  File \"/usr/local/lib/python3.7/dist-packages/sklearn/model_selection/_validation.py\", line 680, in _fit_and_score\n",
            "    estimator.fit(X_train, y_train, **fit_params)\n",
            "  File \"/usr/local/lib/python3.7/dist-packages/sklearn/pipeline.py\", line 394, in fit\n",
            "    self._final_estimator.fit(Xt, y, **fit_params_last_step)\n",
            "  File \"/usr/local/lib/python3.7/dist-packages/sklearn/tree/_classes.py\", line 942, in fit\n",
            "    X_idx_sorted=X_idx_sorted,\n",
            "  File \"/usr/local/lib/python3.7/dist-packages/sklearn/tree/_classes.py\", line 244, in fit\n",
            "    % self.min_samples_leaf\n",
            "ValueError: min_samples_leaf must be at least 1 or in (0, 0.5], got 1.5\n",
            "\n",
            "--------------------------------------------------------------------------------\n",
            "360 fits failed with the following error:\n",
            "Traceback (most recent call last):\n",
            "  File \"/usr/local/lib/python3.7/dist-packages/sklearn/model_selection/_validation.py\", line 680, in _fit_and_score\n",
            "    estimator.fit(X_train, y_train, **fit_params)\n",
            "  File \"/usr/local/lib/python3.7/dist-packages/sklearn/pipeline.py\", line 394, in fit\n",
            "    self._final_estimator.fit(Xt, y, **fit_params_last_step)\n",
            "  File \"/usr/local/lib/python3.7/dist-packages/sklearn/tree/_classes.py\", line 942, in fit\n",
            "    X_idx_sorted=X_idx_sorted,\n",
            "  File \"/usr/local/lib/python3.7/dist-packages/sklearn/tree/_classes.py\", line 352, in fit\n",
            "    criterion = CRITERIA_CLF[self.criterion](\n",
            "KeyError: 'log_loss'\n",
            "\n",
            "  warnings.warn(some_fits_failed_message, FitFailedWarning)\n",
            "/usr/local/lib/python3.7/dist-packages/sklearn/model_selection/_search.py:972: UserWarning: One or more of the test scores are non-finite: [-0.86666667 -1.66666667 -0.86666667 -1.66666667 -0.86666667 -1.66666667\n",
            " -0.03333333 -0.05333333 -0.04       -0.06       -0.03333333 -0.05333333\n",
            "         nan         nan         nan         nan         nan         nan\n",
            " -0.86666667 -1.66666667 -0.86666667 -1.66666667 -0.86666667 -1.66666667\n",
            " -0.03333333 -0.05333333 -0.04       -0.07333333 -0.03333333 -0.05333333\n",
            "         nan         nan         nan         nan         nan         nan\n",
            " -0.86666667 -1.66666667 -0.86666667 -1.66666667 -0.86666667 -1.66666667\n",
            " -0.04666667 -0.05333333 -0.06       -0.06666667 -0.04666667 -0.05333333\n",
            "         nan         nan         nan         nan         nan         nan\n",
            " -0.86666667 -1.66666667 -0.86666667 -1.66666667 -0.86666667 -1.66666667\n",
            " -0.04666667 -0.04666667 -0.06       -0.06666667 -0.04666667 -0.04666667\n",
            "         nan         nan         nan         nan         nan         nan\n",
            "         nan         nan         nan         nan         nan         nan\n",
            "         nan         nan         nan         nan         nan         nan\n",
            "         nan         nan         nan         nan         nan         nan\n",
            "         nan         nan         nan         nan         nan         nan\n",
            "         nan         nan         nan         nan         nan         nan\n",
            "         nan         nan         nan         nan         nan         nan\n",
            " -0.86666667 -1.66666667 -0.86666667 -1.66666667 -0.86666667 -1.66666667\n",
            " -0.03333333 -0.05333333 -0.04       -0.06       -0.03333333 -0.05333333\n",
            "         nan         nan         nan         nan         nan         nan\n",
            " -0.86666667 -1.66666667 -0.86666667 -1.66666667 -0.86666667 -1.66666667\n",
            " -0.03333333 -0.05333333 -0.04       -0.07333333 -0.03333333 -0.05333333\n",
            "         nan         nan         nan         nan         nan         nan\n",
            " -0.86666667 -1.66666667 -0.86666667 -1.66666667 -0.86666667 -1.66666667\n",
            " -0.04666667 -0.05333333 -0.06       -0.06666667 -0.04666667 -0.05333333\n",
            "         nan         nan         nan         nan         nan         nan\n",
            " -0.86666667 -1.66666667 -0.86666667 -1.66666667 -0.86666667 -1.66666667\n",
            " -0.04666667 -0.04666667 -0.06       -0.06666667 -0.04666667 -0.04666667\n",
            "         nan         nan         nan         nan         nan         nan\n",
            "         nan         nan         nan         nan         nan         nan\n",
            "         nan         nan         nan         nan         nan         nan\n",
            "         nan         nan         nan         nan         nan         nan\n",
            "         nan         nan         nan         nan         nan         nan\n",
            "         nan         nan         nan         nan         nan         nan\n",
            "         nan         nan         nan         nan         nan         nan\n",
            " -0.86666667 -1.66666667 -0.86666667 -1.66666667 -0.86666667 -1.66666667\n",
            " -0.04       -0.04666667 -0.05333333 -0.06       -0.04       -0.04666667\n",
            "         nan         nan         nan         nan         nan         nan\n",
            " -0.86666667 -1.66666667 -0.86666667 -1.66666667 -0.86666667 -1.66666667\n",
            " -0.03333333 -0.05333333 -0.04       -0.07333333 -0.03333333 -0.05333333\n",
            "         nan         nan         nan         nan         nan         nan\n",
            " -0.86666667 -1.66666667 -0.86666667 -1.66666667 -0.86666667 -1.66666667\n",
            " -0.04666667 -0.05333333 -0.06       -0.05333333 -0.04666667 -0.05333333\n",
            "         nan         nan         nan         nan         nan         nan\n",
            " -0.86666667 -1.66666667 -0.86666667 -1.66666667 -0.86666667 -1.66666667\n",
            " -0.04666667 -0.04666667 -0.06       -0.06666667 -0.04666667 -0.04666667\n",
            "         nan         nan         nan         nan         nan         nan\n",
            "         nan         nan         nan         nan         nan         nan\n",
            "         nan         nan         nan         nan         nan         nan\n",
            "         nan         nan         nan         nan         nan         nan\n",
            "         nan         nan         nan         nan         nan         nan\n",
            "         nan         nan         nan         nan         nan         nan\n",
            "         nan         nan         nan         nan         nan         nan]\n",
            "  category=UserWarning,\n"
          ]
        },
        {
          "output_type": "execute_result",
          "data": {
            "text/plain": [
              "GridSearchCV(cv=5,\n",
              "             estimator=Pipeline(steps=[('scaler', StandardScaler()),\n",
              "                                       ('model',\n",
              "                                        DecisionTreeClassifier(random_state=21))]),\n",
              "             n_jobs=-1,\n",
              "             param_grid={'model__ccp_alpha': [0.0099, 0.01, 0.0],\n",
              "                         'model__criterion': ['gini', 'entropy', 'log_loss'],\n",
              "                         'model__min_impurity_decrease': [0.0, 0.01],\n",
              "                         'model__min_samples_leaf': [0.5, 1, 1.5],\n",
              "                         'model__min_weight_fraction_leaf': [0.0, 0.01, 0.001],\n",
              "                         'model__splitter': ['best', 'random']},\n",
              "             scoring='neg_mean_squared_error', verbose=3)"
            ]
          },
          "metadata": {},
          "execution_count": 4
        }
      ]
    },
    {
      "cell_type": "code",
      "source": [
        "search.best_params_, search.best_estimator_"
      ],
      "metadata": {
        "colab": {
          "base_uri": "https://localhost:8080/"
        },
        "id": "izUeKlIr0f6u",
        "outputId": "e5142cae-4b49-4ff8-9f08-9618124bc099"
      },
      "execution_count": null,
      "outputs": [
        {
          "output_type": "execute_result",
          "data": {
            "text/plain": [
              "({'model__ccp_alpha': 0.0099,\n",
              "  'model__criterion': 'gini',\n",
              "  'model__min_impurity_decrease': 0.0,\n",
              "  'model__min_samples_leaf': 1,\n",
              "  'model__min_weight_fraction_leaf': 0.0,\n",
              "  'model__splitter': 'best'},\n",
              " Pipeline(steps=[('scaler', StandardScaler()),\n",
              "                 ('model',\n",
              "                  DecisionTreeClassifier(ccp_alpha=0.0099, random_state=21))]))"
            ]
          },
          "metadata": {},
          "execution_count": 5
        }
      ]
    },
    {
      "cell_type": "code",
      "source": [
        "X = StandardScaler().fit_transform(X)"
      ],
      "metadata": {
        "id": "VHy0aGA2gd3b"
      },
      "execution_count": null,
      "outputs": []
    },
    {
      "cell_type": "code",
      "source": [
        "from sklearn.model_selection import train_test_split\n",
        "\n",
        "X_train, X_test, y_train, y_test = train_test_split(X, y, test_size=0.1, random_state=7)\n",
        "X_train.shape, X_test.shape"
      ],
      "metadata": {
        "colab": {
          "base_uri": "https://localhost:8080/"
        },
        "id": "uEzrJbS_gxBE",
        "outputId": "df91567d-54ab-4ee0-e1cb-bea45025bb7e"
      },
      "execution_count": null,
      "outputs": [
        {
          "output_type": "execute_result",
          "data": {
            "text/plain": [
              "((135, 4), (15, 4))"
            ]
          },
          "metadata": {},
          "execution_count": 7
        }
      ]
    },
    {
      "cell_type": "code",
      "source": [
        "from sklearn.tree import DecisionTreeClassifier\n",
        "\n",
        "model = DecisionTreeClassifier(ccp_alpha = 0.0099, criterion = 'gini',\n",
        "                               min_impurity_decrease = 0.0,\n",
        "                               min_samples_leaf = 1,\n",
        "                               min_weight_fraction_leaf = 0.0,\n",
        "                               splitter = 'best')\n",
        "model.fit(X_train, y_train)"
      ],
      "metadata": {
        "colab": {
          "base_uri": "https://localhost:8080/"
        },
        "id": "HWXfqeTAemDq",
        "outputId": "f1ba673d-e892-4980-9231-4ce5d6ee0b30"
      },
      "execution_count": null,
      "outputs": [
        {
          "output_type": "execute_result",
          "data": {
            "text/plain": [
              "DecisionTreeClassifier(ccp_alpha=0.0099)"
            ]
          },
          "metadata": {},
          "execution_count": 10
        }
      ]
    },
    {
      "cell_type": "code",
      "source": [
        "from sklearn.metrics import classification_report\n",
        "\n",
        "y_pred = model.predict(X_test)\n",
        "print(classification_report(y_test, y_pred))"
      ],
      "metadata": {
        "colab": {
          "base_uri": "https://localhost:8080/"
        },
        "id": "kbS8lfH6fhEa",
        "outputId": "84e37125-e2b9-4103-f2a2-3c35261df2ce"
      },
      "execution_count": null,
      "outputs": [
        {
          "output_type": "stream",
          "name": "stdout",
          "text": [
            "              precision    recall  f1-score   support\n",
            "\n",
            "           0       1.00      1.00      1.00         5\n",
            "           1       0.86      0.86      0.86         7\n",
            "           2       0.67      0.67      0.67         3\n",
            "\n",
            "    accuracy                           0.87        15\n",
            "   macro avg       0.84      0.84      0.84        15\n",
            "weighted avg       0.87      0.87      0.87        15\n",
            "\n"
          ]
        }
      ]
    },
    {
      "cell_type": "code",
      "source": [
        "from sklearn.metrics import confusion_matrix, ConfusionMatrixDisplay\n",
        "\n",
        "cm = confusion_matrix(y_test, y_pred, labels=model.classes_)\n",
        "disp = ConfusionMatrixDisplay(confusion_matrix=cm, display_labels=model.classes_)\n",
        "disp.plot()"
      ],
      "metadata": {
        "colab": {
          "base_uri": "https://localhost:8080/",
          "height": 321
        },
        "id": "RSYubJu2fjRi",
        "outputId": "2c77de91-9d1e-452b-da5a-95eddcaa1900"
      },
      "execution_count": null,
      "outputs": [
        {
          "output_type": "execute_result",
          "data": {
            "text/plain": [
              "<sklearn.metrics._plot.confusion_matrix.ConfusionMatrixDisplay at 0x7f46535d0b90>"
            ]
          },
          "metadata": {},
          "execution_count": 12
        },
        {
          "output_type": "display_data",
          "data": {
            "text/plain": [
              "<Figure size 432x288 with 2 Axes>"
            ],
            "image/png": "[encoded data removed]"
          },
          "metadata": {
            "needs_background": "light"
          }
        }
      ]
    }
  ]
}