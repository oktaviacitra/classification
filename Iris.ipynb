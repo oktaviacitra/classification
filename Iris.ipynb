{
  "nbformat": 4,
  "nbformat_minor": 0,
  "metadata": {
    "colab": {
      "provenance": [],
      "collapsed_sections": [],
      "authorship_tag": "ABX9TyMuIYIPSlOvNnhEH33sNvtV",
      "include_colab_link": true
    },
    "kernelspec": {
      "name": "python3",
      "display_name": "Python 3"
    },
    "language_info": {
      "name": "python"
    }
  },
  "cells": [
    {
      "cell_type": "markdown",
      "metadata": {
        "id": "view-in-github",
        "colab_type": "text"
      },
      "source": [
        "<a href=\"https://colab.research.google.com/github/oktaviacitra/classification/blob/main/Iris.ipynb\" target=\"_parent\"><img src=\"https://colab.research.google.com/assets/colab-badge.svg\" alt=\"Open In Colab\"/></a>"
      ]
    },
    {
      "cell_type": "code",
      "execution_count": 1,
      "metadata": {
        "id": "hPgM7CCVOkqx"
      },
      "outputs": [],
      "source": [
        "from sklearn.datasets import load_iris\n",
        "\n",
        "iris = load_iris()\n",
        "X, y = iris.data, iris.target"
      ]
    },
    {
      "cell_type": "code",
      "source": [
        "from sklearn.preprocessing import StandardScaler\n",
        "from sklearn.pipeline import Pipeline\n",
        "from sklearn.tree import DecisionTreeClassifier\n",
        "\n",
        "pipeline = Pipeline(\n",
        "    [\n",
        "        ('scaler', StandardScaler()), \n",
        "        ('model', DecisionTreeClassifier(random_state=21))\n",
        "    ]\n",
        ")"
      ],
      "metadata": {
        "id": "beAoVWx8r1S3"
      },
      "execution_count": 2,
      "outputs": []
    },
    {
      "cell_type": "code",
      "source": [
        "pipeline.get_params()"
      ],
      "metadata": {
        "colab": {
          "base_uri": "https://localhost:8080/"
        },
        "id": "BaQXA7Brsl8l",
        "outputId": "27836a90-c95f-4cb2-a44e-303bc05c4609"
      },
      "execution_count": 3,
      "outputs": [
        {
          "output_type": "execute_result",
          "data": {
            "text/plain": [
              "{'memory': None,\n",
              " 'steps': [('scaler', StandardScaler()),\n",
              "  ('model', DecisionTreeClassifier(random_state=21))],\n",
              " 'verbose': False,\n",
              " 'scaler': StandardScaler(),\n",
              " 'model': DecisionTreeClassifier(random_state=21),\n",
              " 'scaler__copy': True,\n",
              " 'scaler__with_mean': True,\n",
              " 'scaler__with_std': True,\n",
              " 'model__ccp_alpha': 0.0,\n",
              " 'model__class_weight': None,\n",
              " 'model__criterion': 'gini',\n",
              " 'model__max_depth': None,\n",
              " 'model__max_features': None,\n",
              " 'model__max_leaf_nodes': None,\n",
              " 'model__min_impurity_decrease': 0.0,\n",
              " 'model__min_samples_leaf': 1,\n",
              " 'model__min_samples_split': 2,\n",
              " 'model__min_weight_fraction_leaf': 0.0,\n",
              " 'model__random_state': 21,\n",
              " 'model__splitter': 'best'}"
            ]
          },
          "metadata": {},
          "execution_count": 3
        }
      ]
    },
    {
      "cell_type": "code",
      "source": [
        "from sklearn.model_selection import GridSearchCV\n",
        "\n",
        "param_grid = {'model__splitter': ['best', 'random'],\n",
        "              'model__criterion': ['gini', 'entropy', 'log_loss'],\n",
        "              'model__min_samples_leaf': [1, 1.5, 2, 2.5, 3],\n",
        "              'model__min_samples_leaf': [0.5, 1, 1.5],\n",
        "              'model__min_weight_fraction_leaf': [0.0, 0.01, 0.001],\n",
        "              'model__min_impurity_decrease': [0.0, 0.01],\n",
        "              'model__ccp_alpha': [0.0099, 0.01, 0.0]\n",
        "              }\n",
        "\n",
        "search = GridSearchCV(\n",
        "    estimator = pipeline,\n",
        "    param_grid = param_grid,\n",
        "    n_jobs=-1,\n",
        "    scoring=\"neg_mean_squared_error\",\n",
        "    cv=5,\n",
        "    verbose=3\n",
        ")\n",
        "\n",
        "search.fit(X, y)"
      ],
      "metadata": {
        "colab": {
          "base_uri": "https://localhost:8080/"
        },
        "id": "mQ_70FC20eUK",
        "outputId": "1afe36f5-4bb6-4898-c078-50a69c22087f"
      },
      "execution_count": 4,
      "outputs": [
        {
          "output_type": "stream",
          "name": "stdout",
          "text": [
            "Fitting 5 folds for each of 324 candidates, totalling 1620 fits\n"
          ]
        },
        {
          "output_type": "stream",
          "name": "stderr",
          "text": [
            "/usr/local/lib/python3.7/dist-packages/sklearn/model_selection/_validation.py:372: FitFailedWarning: \n",
            "900 fits failed out of a total of 1620.\n",
            "The score on these train-test partitions for these parameters will be set to nan.\n",
            "If these failures are not expected, you can try to debug them by setting error_score='raise'.\n",
            "\n",
            "Below are more details about the failures:\n",
            "--------------------------------------------------------------------------------\n",
            "540 fits failed with the following error:\n",
            "Traceback (most recent call last):\n",
            "  File \"/usr/local/lib/python3.7/dist-packages/sklearn/model_selection/_validation.py\", line 680, in _fit_and_score\n",
            "    estimator.fit(X_train, y_train, **fit_params)\n",
            "  File \"/usr/local/lib/python3.7/dist-packages/sklearn/pipeline.py\", line 394, in fit\n",
            "    self._final_estimator.fit(Xt, y, **fit_params_last_step)\n",
            "  File \"/usr/local/lib/python3.7/dist-packages/sklearn/tree/_classes.py\", line 942, in fit\n",
            "    X_idx_sorted=X_idx_sorted,\n",
            "  File \"/usr/local/lib/python3.7/dist-packages/sklearn/tree/_classes.py\", line 244, in fit\n",
            "    % self.min_samples_leaf\n",
            "ValueError: min_samples_leaf must be at least 1 or in (0, 0.5], got 1.5\n",
            "\n",
            "--------------------------------------------------------------------------------\n",
            "360 fits failed with the following error:\n",
            "Traceback (most recent call last):\n",
            "  File \"/usr/local/lib/python3.7/dist-packages/sklearn/model_selection/_validation.py\", line 680, in _fit_and_score\n",
            "    estimator.fit(X_train, y_train, **fit_params)\n",
            "  File \"/usr/local/lib/python3.7/dist-packages/sklearn/pipeline.py\", line 394, in fit\n",
            "    self._final_estimator.fit(Xt, y, **fit_params_last_step)\n",
            "  File \"/usr/local/lib/python3.7/dist-packages/sklearn/tree/_classes.py\", line 942, in fit\n",
            "    X_idx_sorted=X_idx_sorted,\n",
            "  File \"/usr/local/lib/python3.7/dist-packages/sklearn/tree/_classes.py\", line 352, in fit\n",
            "    criterion = CRITERIA_CLF[self.criterion](\n",
            "KeyError: 'log_loss'\n",
            "\n",
            "  warnings.warn(some_fits_failed_message, FitFailedWarning)\n",
            "/usr/local/lib/python3.7/dist-packages/sklearn/model_selection/_search.py:972: UserWarning: One or more of the test scores are non-finite: [-0.86666667 -1.66666667 -0.86666667 -1.66666667 -0.86666667 -1.66666667\n",
            " -0.03333333 -0.05333333 -0.04       -0.06       -0.03333333 -0.05333333\n",
            "         nan         nan         nan         nan         nan         nan\n",
            " -0.86666667 -1.66666667 -0.86666667 -1.66666667 -0.86666667 -1.66666667\n",
            " -0.03333333 -0.05333333 -0.04       -0.07333333 -0.03333333 -0.05333333\n",
            "         nan         nan         nan         nan         nan         nan\n",
            " -0.86666667 -1.66666667 -0.86666667 -1.66666667 -0.86666667 -1.66666667\n",
            " -0.04666667 -0.05333333 -0.06       -0.06666667 -0.04666667 -0.05333333\n",
            "         nan         nan         nan         nan         nan         nan\n",
            " -0.86666667 -1.66666667 -0.86666667 -1.66666667 -0.86666667 -1.66666667\n",
            " -0.04666667 -0.04666667 -0.06       -0.06666667 -0.04666667 -0.04666667\n",
            "         nan         nan         nan         nan         nan         nan\n",
            "         nan         nan         nan         nan         nan         nan\n",
            "         nan         nan         nan         nan         nan         nan\n",
            "         nan         nan         nan         nan         nan         nan\n",
            "         nan         nan         nan         nan         nan         nan\n",
            "         nan         nan         nan         nan         nan         nan\n",
            "         nan         nan         nan         nan         nan         nan\n",
            " -0.86666667 -1.66666667 -0.86666667 -1.66666667 -0.86666667 -1.66666667\n",
            " -0.03333333 -0.05333333 -0.04       -0.06       -0.03333333 -0.05333333\n",
            "         nan         nan         nan         nan         nan         nan\n",
            " -0.86666667 -1.66666667 -0.86666667 -1.66666667 -0.86666667 -1.66666667\n",
            " -0.03333333 -0.05333333 -0.04       -0.07333333 -0.03333333 -0.05333333\n",
            "         nan         nan         nan         nan         nan         nan\n",
            " -0.86666667 -1.66666667 -0.86666667 -1.66666667 -0.86666667 -1.66666667\n",
            " -0.04666667 -0.05333333 -0.06       -0.06666667 -0.04666667 -0.05333333\n",
            "         nan         nan         nan         nan         nan         nan\n",
            " -0.86666667 -1.66666667 -0.86666667 -1.66666667 -0.86666667 -1.66666667\n",
            " -0.04666667 -0.04666667 -0.06       -0.06666667 -0.04666667 -0.04666667\n",
            "         nan         nan         nan         nan         nan         nan\n",
            "         nan         nan         nan         nan         nan         nan\n",
            "         nan         nan         nan         nan         nan         nan\n",
            "         nan         nan         nan         nan         nan         nan\n",
            "         nan         nan         nan         nan         nan         nan\n",
            "         nan         nan         nan         nan         nan         nan\n",
            "         nan         nan         nan         nan         nan         nan\n",
            " -0.86666667 -1.66666667 -0.86666667 -1.66666667 -0.86666667 -1.66666667\n",
            " -0.04       -0.04666667 -0.05333333 -0.06       -0.04       -0.04666667\n",
            "         nan         nan         nan         nan         nan         nan\n",
            " -0.86666667 -1.66666667 -0.86666667 -1.66666667 -0.86666667 -1.66666667\n",
            " -0.03333333 -0.05333333 -0.04       -0.07333333 -0.03333333 -0.05333333\n",
            "         nan         nan         nan         nan         nan         nan\n",
            " -0.86666667 -1.66666667 -0.86666667 -1.66666667 -0.86666667 -1.66666667\n",
            " -0.04666667 -0.05333333 -0.06       -0.05333333 -0.04666667 -0.05333333\n",
            "         nan         nan         nan         nan         nan         nan\n",
            " -0.86666667 -1.66666667 -0.86666667 -1.66666667 -0.86666667 -1.66666667\n",
            " -0.04666667 -0.04666667 -0.06       -0.06666667 -0.04666667 -0.04666667\n",
            "         nan         nan         nan         nan         nan         nan\n",
            "         nan         nan         nan         nan         nan         nan\n",
            "         nan         nan         nan         nan         nan         nan\n",
            "         nan         nan         nan         nan         nan         nan\n",
            "         nan         nan         nan         nan         nan         nan\n",
            "         nan         nan         nan         nan         nan         nan\n",
            "         nan         nan         nan         nan         nan         nan]\n",
            "  category=UserWarning,\n"
          ]
        },
        {
          "output_type": "execute_result",
          "data": {
            "text/plain": [
              "GridSearchCV(cv=5,\n",
              "             estimator=Pipeline(steps=[('scaler', StandardScaler()),\n",
              "                                       ('model',\n",
              "                                        DecisionTreeClassifier(random_state=21))]),\n",
              "             n_jobs=-1,\n",
              "             param_grid={'model__ccp_alpha': [0.0099, 0.01, 0.0],\n",
              "                         'model__criterion': ['gini', 'entropy', 'log_loss'],\n",
              "                         'model__min_impurity_decrease': [0.0, 0.01],\n",
              "                         'model__min_samples_leaf': [0.5, 1, 1.5],\n",
              "                         'model__min_weight_fraction_leaf': [0.0, 0.01, 0.001],\n",
              "                         'model__splitter': ['best', 'random']},\n",
              "             scoring='neg_mean_squared_error', verbose=3)"
            ]
          },
          "metadata": {},
          "execution_count": 4
        }
      ]
    },
    {
      "cell_type": "code",
      "source": [
        "search.best_params_, search.best_estimator_"
      ],
      "metadata": {
        "colab": {
          "base_uri": "https://localhost:8080/"
        },
        "id": "izUeKlIr0f6u",
        "outputId": "c2afdcaa-1e80-4aed-be32-e945bcf6e4e6"
      },
      "execution_count": 6,
      "outputs": [
        {
          "output_type": "execute_result",
          "data": {
            "text/plain": [
              "({'model__ccp_alpha': 0.0099,\n",
              "  'model__criterion': 'gini',\n",
              "  'model__min_impurity_decrease': 0.0,\n",
              "  'model__min_samples_leaf': 1,\n",
              "  'model__min_weight_fraction_leaf': 0.0,\n",
              "  'model__splitter': 'best'},\n",
              " Pipeline(steps=[('scaler', StandardScaler()),\n",
              "                 ('model',\n",
              "                  DecisionTreeClassifier(ccp_alpha=0.0099, random_state=21))]))"
            ]
          },
          "metadata": {},
          "execution_count": 6
        }
      ]
    }
  ]
}