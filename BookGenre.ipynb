{
  "nbformat": 4,
  "nbformat_minor": 0,
  "metadata": {
    "colab": {
      "provenance": [],
      "collapsed_sections": [],
      "authorship_tag": "ABX9TyOugJvU6Cx5bEtcNYm9JnnB",
      "include_colab_link": true
    },
    "kernelspec": {
      "name": "python3",
      "display_name": "Python 3"
    },
    "language_info": {
      "name": "python"
    },
    "accelerator": "GPU",
    "gpuClass": "standard"
  },
  "cells": [
    {
      "cell_type": "markdown",
      "metadata": {
        "id": "view-in-github",
        "colab_type": "text"
      },
      "source": [
        "<a href=\"https://colab.research.google.com/github/oktaviacitra/classification/blob/main/BookGenre.ipynb\" target=\"_parent\"><img src=\"https://colab.research.google.com/assets/colab-badge.svg\" alt=\"Open In Colab\"/></a>"
      ]
    },
    {
      "cell_type": "code",
      "execution_count": null,
      "metadata": {
        "colab": {
          "base_uri": "https://localhost:8080/"
        },
        "id": "kHTtqyEW9s4B",
        "outputId": "9c4cfc03-190a-4c02-9553-577beef8dbfc"
      },
      "outputs": [
        {
          "output_type": "stream",
          "name": "stdout",
          "text": [
            "Drive already mounted at /content/drive; to attempt to forcibly remount, call drive.mount(\"/content/drive\", force_remount=True).\n"
          ]
        }
      ],
      "source": [
        "from google.colab import drive\n",
        "\n",
        "origin_path = '/content/drive'\n",
        "drive.mount(origin_path)\n",
        "folder_path = origin_path + '/MyDrive/Learning Journey/Book Genre/'"
      ]
    },
    {
      "cell_type": "code",
      "source": [
        "import pandas as pd\n",
        "\n",
        "dataframe = pd.read_csv(folder_path + 'data.csv')\n",
        "data = dataframe['summary'].values\n",
        "label = pd.get_dummies(dataframe['genre']).values\n",
        "data.shape, label.shape"
      ],
      "metadata": {
        "colab": {
          "base_uri": "https://localhost:8080/"
        },
        "id": "MH_XkR3f_Q9U",
        "outputId": "9d6ebf11-16bd-4071-bdf8-b1b882a33813"
      },
      "execution_count": null,
      "outputs": [
        {
          "output_type": "execute_result",
          "data": {
            "text/plain": [
              "((4657,), (4657, 10))"
            ]
          },
          "metadata": {},
          "execution_count": 2
        }
      ]
    },
    {
      "cell_type": "code",
      "source": [
        "import tensorflow\n",
        "from keras.preprocessing.text import Tokenizer\n",
        "from keras.utils import pad_sequences\n",
        "\n",
        "tokenizer = Tokenizer(num_words=5000, oov_token='x')\n",
        "tokenizer.fit_on_texts(data)\n",
        "sequence = tokenizer.texts_to_sequences(data)\n",
        "padded_data = pad_sequences(sequence) \n",
        "padded_data.shape"
      ],
      "metadata": {
        "id": "5_csOl3YCQK5",
        "colab": {
          "base_uri": "https://localhost:8080/"
        },
        "outputId": "53d36057-70bb-4733-dae5-06c531a4d93f"
      },
      "execution_count": null,
      "outputs": [
        {
          "output_type": "execute_result",
          "data": {
            "text/plain": [
              "(4657, 5682)"
            ]
          },
          "metadata": {},
          "execution_count": 3
        }
      ]
    },
    {
      "cell_type": "code",
      "source": [
        "from sklearn.model_selection import train_test_split\n",
        "\n",
        "X_train, X_val, y_train, y_val = train_test_split(padded_data, label, test_size=0.2)\n",
        "X_train.shape, X_val.shape, y_train.shape, y_val.shape"
      ],
      "metadata": {
        "colab": {
          "base_uri": "https://localhost:8080/"
        },
        "id": "Mc8TW2l1C8jN",
        "outputId": "14749d14-0e5f-4ef5-bef9-7b3c4939d9a0"
      },
      "execution_count": null,
      "outputs": [
        {
          "output_type": "execute_result",
          "data": {
            "text/plain": [
              "((3725, 5682), (932, 5682), (3725, 10), (932, 10))"
            ]
          },
          "metadata": {},
          "execution_count": 15
        }
      ]
    },
    {
      "cell_type": "code",
      "source": [
        "from keras.models import Sequential\n",
        "from keras.layers import Embedding, LSTM, Dense\n",
        "\n",
        "model = Sequential([\n",
        "    Embedding(input_dim=5682, output_dim=32, name=\"embedding\"),\n",
        "    LSTM(128, name=\"lstm\"),\n",
        "    Dense(512, activation='relu', name=\"dense_1\"),\n",
        "    Dense(128, activation='relu', name=\"dense_2\"),\n",
        "    Dense(10, activation='softmax', name=\"dense_3\")\n",
        "], name=\"model\")"
      ],
      "metadata": {
        "id": "jImsVkUzHzO-"
      },
      "execution_count": null,
      "outputs": []
    },
    {
      "cell_type": "code",
      "source": [
        "from keras.callbacks import EarlyStopping, ModelCheckpoint, ReduceLROnPlateau\n",
        "\n",
        "model.compile(loss='categorical_crossentropy',\n",
        "              optimizer='sgd',\n",
        "              metrics=['accuracy'])\n",
        "\n",
        "reduce_lr = ReduceLROnPlateau(monitor='val_loss',\n",
        "                              factor=0.4,   \n",
        "                              patience=2, \n",
        "                              min_lr=0.0001,\n",
        "                              verbose=1\n",
        "                              )\n",
        "best_weight = ModelCheckpoint(folder_path + \"{epoch:02d}-{val_loss:.4f}.h5\",\n",
        "                              monitor=\"val_loss\",\n",
        "                              mode=\"min\",\n",
        "                              save_best_only=True,\n",
        "                              verbose=1)\n",
        "stop_early = EarlyStopping(monitor='val_loss', patience=5)\n",
        "\n",
        "history = model.fit(X_train, y_train, epochs=200,\n",
        "             validation_data=(X_val, y_val),\n",
        "             callbacks=[stop_early, best_weight, reduce_lr],\n",
        "             verbose=1)"
      ],
      "metadata": {
        "colab": {
          "base_uri": "https://localhost:8080/"
        },
        "id": "iBEUBLxIJPTa",
        "outputId": "9b25ecc2-4d6b-41ba-fefe-872afc556214"
      },
      "execution_count": null,
      "outputs": [
        {
          "output_type": "stream",
          "name": "stdout",
          "text": [
            "Epoch 1/200\n",
            "117/117 [==============================] - ETA: 0s - loss: 1.6424 - accuracy: 0.5581\n",
            "Epoch 1: val_loss improved from inf to 1.19896, saving model to /content/drive/MyDrive/Learning Journey/Book Genre/01-1.1990.h5\n",
            "117/117 [==============================] - 31s 256ms/step - loss: 1.6424 - accuracy: 0.5581 - val_loss: 1.1990 - val_accuracy: 0.5773 - lr: 0.0100\n",
            "Epoch 2/200\n",
            "117/117 [==============================] - ETA: 0s - loss: 1.2392 - accuracy: 0.6121\n",
            "Epoch 2: val_loss improved from 1.19896 to 0.97786, saving model to /content/drive/MyDrive/Learning Journey/Book Genre/02-0.9779.h5\n",
            "117/117 [==============================] - 32s 273ms/step - loss: 1.2392 - accuracy: 0.6121 - val_loss: 0.9779 - val_accuracy: 0.5998 - lr: 0.0100\n",
            "Epoch 3/200\n",
            "117/117 [==============================] - ETA: 0s - loss: 1.1609 - accuracy: 0.6387\n",
            "Epoch 3: val_loss did not improve from 0.97786\n",
            "117/117 [==============================] - 32s 276ms/step - loss: 1.1609 - accuracy: 0.6387 - val_loss: 1.2260 - val_accuracy: 0.5118 - lr: 0.0100\n",
            "Epoch 4/200\n",
            "117/117 [==============================] - ETA: 0s - loss: 1.1044 - accuracy: 0.6529\n",
            "Epoch 4: val_loss improved from 0.97786 to 0.90561, saving model to /content/drive/MyDrive/Learning Journey/Book Genre/04-0.9056.h5\n",
            "117/117 [==============================] - 30s 252ms/step - loss: 1.1044 - accuracy: 0.6529 - val_loss: 0.9056 - val_accuracy: 0.6288 - lr: 0.0100\n",
            "Epoch 5/200\n",
            "117/117 [==============================] - ETA: 0s - loss: 1.0424 - accuracy: 0.6658\n",
            "Epoch 5: val_loss improved from 0.90561 to 0.65453, saving model to /content/drive/MyDrive/Learning Journey/Book Genre/05-0.6545.h5\n",
            "117/117 [==============================] - 29s 251ms/step - loss: 1.0424 - accuracy: 0.6658 - val_loss: 0.6545 - val_accuracy: 0.8155 - lr: 0.0100\n",
            "Epoch 6/200\n",
            "117/117 [==============================] - ETA: 0s - loss: 1.0093 - accuracy: 0.6819\n",
            "Epoch 6: val_loss did not improve from 0.65453\n",
            "117/117 [==============================] - 30s 253ms/step - loss: 1.0093 - accuracy: 0.6819 - val_loss: 0.7728 - val_accuracy: 0.7521 - lr: 0.0100\n",
            "Epoch 7/200\n",
            "117/117 [==============================] - ETA: 0s - loss: 0.9694 - accuracy: 0.6800\n",
            "Epoch 7: val_loss did not improve from 0.65453\n",
            "\n",
            "Epoch 7: ReduceLROnPlateau reducing learning rate to 0.003999999910593033.\n",
            "117/117 [==============================] - 29s 252ms/step - loss: 0.9694 - accuracy: 0.6800 - val_loss: 0.9153 - val_accuracy: 0.6899 - lr: 0.0100\n",
            "Epoch 8/200\n",
            "117/117 [==============================] - ETA: 0s - loss: 0.7480 - accuracy: 0.7729\n",
            "Epoch 8: val_loss improved from 0.65453 to 0.58745, saving model to /content/drive/MyDrive/Learning Journey/Book Genre/08-0.5874.h5\n",
            "117/117 [==============================] - 29s 252ms/step - loss: 0.7480 - accuracy: 0.7729 - val_loss: 0.5874 - val_accuracy: 0.8187 - lr: 0.0040\n",
            "Epoch 9/200\n",
            "117/117 [==============================] - ETA: 0s - loss: 0.7410 - accuracy: 0.7820\n",
            "Epoch 9: val_loss improved from 0.58745 to 0.57433, saving model to /content/drive/MyDrive/Learning Journey/Book Genre/09-0.5743.h5\n",
            "117/117 [==============================] - 30s 253ms/step - loss: 0.7410 - accuracy: 0.7820 - val_loss: 0.5743 - val_accuracy: 0.8348 - lr: 0.0040\n",
            "Epoch 10/200\n",
            "117/117 [==============================] - ETA: 0s - loss: 0.7300 - accuracy: 0.7734\n",
            "Epoch 10: val_loss improved from 0.57433 to 0.52025, saving model to /content/drive/MyDrive/Learning Journey/Book Genre/10-0.5203.h5\n",
            "117/117 [==============================] - 30s 253ms/step - loss: 0.7300 - accuracy: 0.7734 - val_loss: 0.5203 - val_accuracy: 0.8509 - lr: 0.0040\n",
            "Epoch 11/200\n",
            "117/117 [==============================] - ETA: 0s - loss: 0.7018 - accuracy: 0.7871\n",
            "Epoch 11: val_loss did not improve from 0.52025\n",
            "117/117 [==============================] - 30s 256ms/step - loss: 0.7018 - accuracy: 0.7871 - val_loss: 0.5250 - val_accuracy: 0.8337 - lr: 0.0040\n",
            "Epoch 12/200\n",
            "117/117 [==============================] - ETA: 0s - loss: 0.6960 - accuracy: 0.7893\n",
            "Epoch 12: val_loss did not improve from 0.52025\n",
            "\n",
            "Epoch 12: ReduceLROnPlateau reducing learning rate to 0.0015999998897314072.\n",
            "117/117 [==============================] - 30s 253ms/step - loss: 0.6960 - accuracy: 0.7893 - val_loss: 0.5414 - val_accuracy: 0.8315 - lr: 0.0040\n",
            "Epoch 13/200\n",
            "117/117 [==============================] - ETA: 0s - loss: 0.6430 - accuracy: 0.8064\n",
            "Epoch 13: val_loss improved from 0.52025 to 0.50205, saving model to /content/drive/MyDrive/Learning Journey/Book Genre/13-0.5020.h5\n",
            "117/117 [==============================] - 32s 275ms/step - loss: 0.6430 - accuracy: 0.8064 - val_loss: 0.5020 - val_accuracy: 0.8433 - lr: 0.0016\n",
            "Epoch 14/200\n",
            "117/117 [==============================] - ETA: 0s - loss: 0.6401 - accuracy: 0.8113\n",
            "Epoch 14: val_loss did not improve from 0.50205\n",
            "117/117 [==============================] - 30s 253ms/step - loss: 0.6401 - accuracy: 0.8113 - val_loss: 0.5028 - val_accuracy: 0.8433 - lr: 0.0016\n",
            "Epoch 15/200\n",
            "117/117 [==============================] - ETA: 0s - loss: 0.6324 - accuracy: 0.8129\n",
            "Epoch 15: val_loss improved from 0.50205 to 0.48434, saving model to /content/drive/MyDrive/Learning Journey/Book Genre/15-0.4843.h5\n",
            "117/117 [==============================] - 29s 251ms/step - loss: 0.6324 - accuracy: 0.8129 - val_loss: 0.4843 - val_accuracy: 0.8562 - lr: 0.0016\n",
            "Epoch 16/200\n",
            "117/117 [==============================] - ETA: 0s - loss: 0.6318 - accuracy: 0.8075\n",
            "Epoch 16: val_loss did not improve from 0.48434\n",
            "117/117 [==============================] - 29s 251ms/step - loss: 0.6318 - accuracy: 0.8075 - val_loss: 0.5168 - val_accuracy: 0.8498 - lr: 0.0016\n",
            "Epoch 17/200\n",
            "117/117 [==============================] - ETA: 0s - loss: 0.6291 - accuracy: 0.8097\n",
            "Epoch 17: val_loss improved from 0.48434 to 0.46643, saving model to /content/drive/MyDrive/Learning Journey/Book Genre/17-0.4664.h5\n",
            "117/117 [==============================] - 29s 249ms/step - loss: 0.6291 - accuracy: 0.8097 - val_loss: 0.4664 - val_accuracy: 0.8648 - lr: 0.0016\n",
            "Epoch 18/200\n",
            "117/117 [==============================] - ETA: 0s - loss: 0.6209 - accuracy: 0.8145\n",
            "Epoch 18: val_loss did not improve from 0.46643\n",
            "117/117 [==============================] - 30s 254ms/step - loss: 0.6209 - accuracy: 0.8145 - val_loss: 0.4694 - val_accuracy: 0.8541 - lr: 0.0016\n",
            "Epoch 19/200\n",
            "117/117 [==============================] - ETA: 0s - loss: 0.6207 - accuracy: 0.8078\n",
            "Epoch 19: val_loss did not improve from 0.46643\n",
            "\n",
            "Epoch 19: ReduceLROnPlateau reducing learning rate to 0.0006399999372661114.\n",
            "117/117 [==============================] - 29s 248ms/step - loss: 0.6207 - accuracy: 0.8078 - val_loss: 0.4832 - val_accuracy: 0.8466 - lr: 0.0016\n",
            "Epoch 20/200\n",
            "117/117 [==============================] - ETA: 0s - loss: 0.6005 - accuracy: 0.8158\n",
            "Epoch 20: val_loss did not improve from 0.46643\n",
            "117/117 [==============================] - 29s 252ms/step - loss: 0.6005 - accuracy: 0.8158 - val_loss: 0.4705 - val_accuracy: 0.8562 - lr: 6.4000e-04\n",
            "Epoch 21/200\n",
            "117/117 [==============================] - ETA: 0s - loss: 0.6003 - accuracy: 0.8177\n",
            "Epoch 21: val_loss did not improve from 0.46643\n",
            "\n",
            "Epoch 21: ReduceLROnPlateau reducing learning rate to 0.0002559999702498317.\n",
            "117/117 [==============================] - 29s 251ms/step - loss: 0.6003 - accuracy: 0.8177 - val_loss: 0.4726 - val_accuracy: 0.8552 - lr: 6.4000e-04\n",
            "Epoch 22/200\n",
            "117/117 [==============================] - ETA: 0s - loss: 0.5946 - accuracy: 0.8185\n",
            "Epoch 22: val_loss improved from 0.46643 to 0.46291, saving model to /content/drive/MyDrive/Learning Journey/Book Genre/22-0.4629.h5\n",
            "117/117 [==============================] - 32s 276ms/step - loss: 0.5946 - accuracy: 0.8185 - val_loss: 0.4629 - val_accuracy: 0.8616 - lr: 2.5600e-04\n",
            "Epoch 23/200\n",
            "117/117 [==============================] - ETA: 0s - loss: 0.5934 - accuracy: 0.8180\n",
            "Epoch 23: val_loss did not improve from 0.46291\n",
            "117/117 [==============================] - 32s 277ms/step - loss: 0.5934 - accuracy: 0.8180 - val_loss: 0.4666 - val_accuracy: 0.8584 - lr: 2.5600e-04\n",
            "Epoch 24/200\n",
            "117/117 [==============================] - ETA: 0s - loss: 0.5926 - accuracy: 0.8201\n",
            "Epoch 24: val_loss did not improve from 0.46291\n",
            "\n",
            "Epoch 24: ReduceLROnPlateau reducing learning rate to 0.00010239998809993268.\n",
            "117/117 [==============================] - 29s 251ms/step - loss: 0.5926 - accuracy: 0.8201 - val_loss: 0.4687 - val_accuracy: 0.8519 - lr: 2.5600e-04\n",
            "Epoch 25/200\n",
            "117/117 [==============================] - ETA: 0s - loss: 0.5908 - accuracy: 0.8220\n",
            "Epoch 25: val_loss did not improve from 0.46291\n",
            "117/117 [==============================] - 29s 250ms/step - loss: 0.5908 - accuracy: 0.8220 - val_loss: 0.4665 - val_accuracy: 0.8530 - lr: 1.0240e-04\n",
            "Epoch 26/200\n",
            "117/117 [==============================] - ETA: 0s - loss: 0.5895 - accuracy: 0.8220\n",
            "Epoch 26: val_loss did not improve from 0.46291\n",
            "\n",
            "Epoch 26: ReduceLROnPlateau reducing learning rate to 0.0001.\n",
            "117/117 [==============================] - 29s 250ms/step - loss: 0.5895 - accuracy: 0.8220 - val_loss: 0.4666 - val_accuracy: 0.8573 - lr: 1.0240e-04\n",
            "Epoch 27/200\n",
            "117/117 [==============================] - ETA: 0s - loss: 0.5896 - accuracy: 0.8207\n",
            "Epoch 27: val_loss did not improve from 0.46291\n",
            "117/117 [==============================] - 29s 247ms/step - loss: 0.5896 - accuracy: 0.8207 - val_loss: 0.4643 - val_accuracy: 0.8541 - lr: 1.0000e-04\n"
          ]
        }
      ]
    },
    {
      "cell_type": "code",
      "source": [
        "import matplotlib.pyplot as plt\n",
        "\n",
        "def graph_history(title, subtitle, interval):\n",
        "    plt.plot(history.history[title], label = title)\n",
        "    plt.plot(history.history[subtitle], label = subtitle)\n",
        "    plt.xlabel('Epoch')\n",
        "    plt.ylabel(title)\n",
        "    plt.ylim(interval)\n",
        "    plt.legend(loc='lower right')"
      ],
      "metadata": {
        "id": "TQDdWa8lKHzR"
      },
      "execution_count": null,
      "outputs": []
    },
    {
      "cell_type": "code",
      "source": [
        "graph_history('loss', 'val_loss', [0.0, 1.8])"
      ],
      "metadata": {
        "id": "PdZdik5IKJ56",
        "colab": {
          "base_uri": "https://localhost:8080/",
          "height": 304
        },
        "outputId": "33e68dad-db90-4ef6-e911-e6ce8978a869"
      },
      "execution_count": null,
      "outputs": [
        {
          "output_type": "display_data",
          "data": {
            "text/plain": [
              "<Figure size 432x288 with 1 Axes>"
            ],
            "image/png": "[encoded data removed]"
          },
          "metadata": {
            "needs_background": "light"
          }
        }
      ]
    },
    {
      "cell_type": "code",
      "source": [
        "graph_history('accuracy', 'val_accuracy', [0.0, 1.0])"
      ],
      "metadata": {
        "id": "DtMeItVpKL-e",
        "colab": {
          "base_uri": "https://localhost:8080/",
          "height": 304
        },
        "outputId": "74a36aa9-a652-48e8-be85-66b7e3a16d7c"
      },
      "execution_count": null,
      "outputs": [
        {
          "output_type": "display_data",
          "data": {
            "text/plain": [
              "<Figure size 432x288 with 1 Axes>"
            ],
            "image/png": "[encoded data removed]"
          },
          "metadata": {
            "needs_background": "light"
          }
        }
      ]
    },
    {
      "cell_type": "markdown",
      "source": [
        "*   Name : Oktavia Citra Resmi Rachmawati\n",
        "*   Email : oktaviacitraaa@gmail.com\n",
        "*   Source dataset : [Kaggle](https://www.kaggle.com/datasets/athu1105/book-genre-prediction)\n"
      ],
      "metadata": {
        "id": "sR9NfoooKZcK"
      }
    }
  ]
}