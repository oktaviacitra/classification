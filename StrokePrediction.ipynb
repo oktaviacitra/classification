{
  "nbformat": 4,
  "nbformat_minor": 0,
  "metadata": {
    "colab": {
      "name": "StrokePrediction.ipynb",
      "provenance": [],
      "authorship_tag": "ABX9TyNdnn9wYzze7R9ZGd8i6Og9",
      "include_colab_link": true
    },
    "kernelspec": {
      "name": "python3",
      "display_name": "Python 3"
    },
    "language_info": {
      "name": "python"
    }
  },
  "cells": [
    {
      "cell_type": "markdown",
      "metadata": {
        "id": "view-in-github",
        "colab_type": "text"
      },
      "source": [
        "<a href=\"https://colab.research.google.com/github/oktaviacitra/classification/blob/main/StrokePrediction.ipynb\" target=\"_parent\"><img src=\"https://colab.research.google.com/assets/colab-badge.svg\" alt=\"Open In Colab\"/></a>"
      ]
    },
    {
      "cell_type": "markdown",
      "source": [
        "# Read File CSV"
      ],
      "metadata": {
        "id": "ZHsdIpVlOOqg"
      }
    },
    {
      "cell_type": "code",
      "execution_count": 1,
      "metadata": {
        "id": "md_6-Xwo5i0s",
        "colab": {
          "base_uri": "https://localhost:8080/"
        },
        "outputId": "c65e46b7-9439-496e-9128-5cf91bef64e0"
      },
      "outputs": [
        {
          "output_type": "stream",
          "name": "stdout",
          "text": [
            "Mounted at /content/drive\n"
          ]
        }
      ],
      "source": [
        "from google.colab import drive\n",
        "\n",
        "origin_path = \"/content/drive\"\n",
        "drive.mount(origin_path)"
      ]
    },
    {
      "cell_type": "code",
      "source": [
        "import pandas as pd\n",
        "\n",
        "folder_path = origin_path + \"/MyDrive/Learning Journey/Stroke Data\"\n",
        "dataset_path = folder_path + \"/full_data.csv\"\n",
        "dataframe = pd.read_csv(dataset_path)\n",
        "dataframe.head(3)"
      ],
      "metadata": {
        "colab": {
          "base_uri": "https://localhost:8080/",
          "height": 208
        },
        "id": "NzVSYG3t9Kzj",
        "outputId": "2d4fcc2d-5c4d-49d9-b379-a5db65eafd6c"
      },
      "execution_count": 2,
      "outputs": [
        {
          "output_type": "execute_result",
          "data": {
            "text/plain": [
              "   gender   age  hypertension  heart_disease ever_married work_type  \\\n",
              "0    Male  67.0             0              1          Yes   Private   \n",
              "1    Male  80.0             0              1          Yes   Private   \n",
              "2  Female  49.0             0              0          Yes   Private   \n",
              "\n",
              "  Residence_type  avg_glucose_level   bmi   smoking_status  stroke  \n",
              "0          Urban             228.69  36.6  formerly smoked       1  \n",
              "1          Rural             105.92  32.5     never smoked       1  \n",
              "2          Urban             171.23  34.4           smokes       1  "
            ],
            "text/html": [
              "\n",
              "  <div id=\"df-32bbe827-d2d2-4438-b675-68884239c451\">\n",
              "    <div class=\"colab-df-container\">\n",
              "      <div>\n",
              "<style scoped>\n",
              "    .dataframe tbody tr th:only-of-type {\n",
              "        vertical-align: middle;\n",
              "    }\n",
              "\n",
              "    .dataframe tbody tr th {\n",
              "        vertical-align: top;\n",
              "    }\n",
              "\n",
              "    .dataframe thead th {\n",
              "        text-align: right;\n",
              "    }\n",
              "</style>\n",
              "<table border=\"1\" class=\"dataframe\">\n",
              "  <thead>\n",
              "    <tr style=\"text-align: right;\">\n",
              "      <th></th>\n",
              "      <th>gender</th>\n",
              "      <th>age</th>\n",
              "      <th>hypertension</th>\n",
              "      <th>heart_disease</th>\n",
              "      <th>ever_married</th>\n",
              "      <th>work_type</th>\n",
              "      <th>Residence_type</th>\n",
              "      <th>avg_glucose_level</th>\n",
              "      <th>bmi</th>\n",
              "      <th>smoking_status</th>\n",
              "      <th>stroke</th>\n",
              "    </tr>\n",
              "  </thead>\n",
              "  <tbody>\n",
              "    <tr>\n",
              "      <th>0</th>\n",
              "      <td>Male</td>\n",
              "      <td>67.0</td>\n",
              "      <td>0</td>\n",
              "      <td>1</td>\n",
              "      <td>Yes</td>\n",
              "      <td>Private</td>\n",
              "      <td>Urban</td>\n",
              "      <td>228.69</td>\n",
              "      <td>36.6</td>\n",
              "      <td>formerly smoked</td>\n",
              "      <td>1</td>\n",
              "    </tr>\n",
              "    <tr>\n",
              "      <th>1</th>\n",
              "      <td>Male</td>\n",
              "      <td>80.0</td>\n",
              "      <td>0</td>\n",
              "      <td>1</td>\n",
              "      <td>Yes</td>\n",
              "      <td>Private</td>\n",
              "      <td>Rural</td>\n",
              "      <td>105.92</td>\n",
              "      <td>32.5</td>\n",
              "      <td>never smoked</td>\n",
              "      <td>1</td>\n",
              "    </tr>\n",
              "    <tr>\n",
              "      <th>2</th>\n",
              "      <td>Female</td>\n",
              "      <td>49.0</td>\n",
              "      <td>0</td>\n",
              "      <td>0</td>\n",
              "      <td>Yes</td>\n",
              "      <td>Private</td>\n",
              "      <td>Urban</td>\n",
              "      <td>171.23</td>\n",
              "      <td>34.4</td>\n",
              "      <td>smokes</td>\n",
              "      <td>1</td>\n",
              "    </tr>\n",
              "  </tbody>\n",
              "</table>\n",
              "</div>\n",
              "      <button class=\"colab-df-convert\" onclick=\"convertToInteractive('df-32bbe827-d2d2-4438-b675-68884239c451')\"\n",
              "              title=\"Convert this dataframe to an interactive table.\"\n",
              "              style=\"display:none;\">\n",
              "        \n",
              "  <svg xmlns=\"http://www.w3.org/2000/svg\" height=\"24px\"viewBox=\"0 0 24 24\"\n",
              "       width=\"24px\">\n",
              "    <path d=\"M0 0h24v24H0V0z\" fill=\"none\"/>\n",
              "    <path d=\"M18.56 5.44l.94 2.06.94-2.06 2.06-.94-2.06-.94-.94-2.06-.94 2.06-2.06.94zm-11 1L8.5 8.5l.94-2.06 2.06-.94-2.06-.94L8.5 2.5l-.94 2.06-2.06.94zm10 10l.94 2.06.94-2.06 2.06-.94-2.06-.94-.94-2.06-.94 2.06-2.06.94z\"/><path d=\"M17.41 7.96l-1.37-1.37c-.4-.4-.92-.59-1.43-.59-.52 0-1.04.2-1.43.59L10.3 9.45l-7.72 7.72c-.78.78-.78 2.05 0 2.83L4 21.41c.39.39.9.59 1.41.59.51 0 1.02-.2 1.41-.59l7.78-7.78 2.81-2.81c.8-.78.8-2.07 0-2.86zM5.41 20L4 18.59l7.72-7.72 1.47 1.35L5.41 20z\"/>\n",
              "  </svg>\n",
              "      </button>\n",
              "      \n",
              "  <style>\n",
              "    .colab-df-container {\n",
              "      display:flex;\n",
              "      flex-wrap:wrap;\n",
              "      gap: 12px;\n",
              "    }\n",
              "\n",
              "    .colab-df-convert {\n",
              "      background-color: #E8F0FE;\n",
              "      border: none;\n",
              "      border-radius: 50%;\n",
              "      cursor: pointer;\n",
              "      display: none;\n",
              "      fill: #1967D2;\n",
              "      height: 32px;\n",
              "      padding: 0 0 0 0;\n",
              "      width: 32px;\n",
              "    }\n",
              "\n",
              "    .colab-df-convert:hover {\n",
              "      background-color: #E2EBFA;\n",
              "      box-shadow: 0px 1px 2px rgba(60, 64, 67, 0.3), 0px 1px 3px 1px rgba(60, 64, 67, 0.15);\n",
              "      fill: #174EA6;\n",
              "    }\n",
              "\n",
              "    [theme=dark] .colab-df-convert {\n",
              "      background-color: #3B4455;\n",
              "      fill: #D2E3FC;\n",
              "    }\n",
              "\n",
              "    [theme=dark] .colab-df-convert:hover {\n",
              "      background-color: #434B5C;\n",
              "      box-shadow: 0px 1px 3px 1px rgba(0, 0, 0, 0.15);\n",
              "      filter: drop-shadow(0px 1px 2px rgba(0, 0, 0, 0.3));\n",
              "      fill: #FFFFFF;\n",
              "    }\n",
              "  </style>\n",
              "\n",
              "      <script>\n",
              "        const buttonEl =\n",
              "          document.querySelector('#df-32bbe827-d2d2-4438-b675-68884239c451 button.colab-df-convert');\n",
              "        buttonEl.style.display =\n",
              "          google.colab.kernel.accessAllowed ? 'block' : 'none';\n",
              "\n",
              "        async function convertToInteractive(key) {\n",
              "          const element = document.querySelector('#df-32bbe827-d2d2-4438-b675-68884239c451');\n",
              "          const dataTable =\n",
              "            await google.colab.kernel.invokeFunction('convertToInteractive',\n",
              "                                                     [key], {});\n",
              "          if (!dataTable) return;\n",
              "\n",
              "          const docLinkHtml = 'Like what you see? Visit the ' +\n",
              "            '<a target=\"_blank\" href=https://colab.research.google.com/notebooks/data_table.ipynb>data table notebook</a>'\n",
              "            + ' to learn more about interactive tables.';\n",
              "          element.innerHTML = '';\n",
              "          dataTable['output_type'] = 'display_data';\n",
              "          await google.colab.output.renderOutput(dataTable, element);\n",
              "          const docLink = document.createElement('div');\n",
              "          docLink.innerHTML = docLinkHtml;\n",
              "          element.appendChild(docLink);\n",
              "        }\n",
              "      </script>\n",
              "    </div>\n",
              "  </div>\n",
              "  "
            ]
          },
          "metadata": {},
          "execution_count": 2
        }
      ]
    },
    {
      "cell_type": "markdown",
      "source": [
        "# Preprocessing Data"
      ],
      "metadata": {
        "id": "zCH2WoPMOTOK"
      }
    },
    {
      "cell_type": "code",
      "source": [
        "categorical_columns = ['gender', 'ever_married', 'Residence_type',\n",
        "                       'work_type', 'smoking_status']\n",
        "for column in categorical_columns:\n",
        "  dataframe[column] = pd.factorize(dataframe[column])[0]"
      ],
      "metadata": {
        "id": "awIeEGVLKyQn"
      },
      "execution_count": 3,
      "outputs": []
    },
    {
      "cell_type": "code",
      "source": [
        "from sklearn.preprocessing import StandardScaler\n",
        "\n",
        "value_columns = ['age', 'avg_glucose_level', 'bmi']\n",
        "dataframe[value_columns] = StandardScaler().fit_transform(dataframe[value_columns])\n",
        "dataframe.head(3)"
      ],
      "metadata": {
        "colab": {
          "base_uri": "https://localhost:8080/",
          "height": 208
        },
        "id": "eIp6_79jL4Ni",
        "outputId": "835092fa-8a95-44ae-f29b-97095b05ceae"
      },
      "execution_count": 4,
      "outputs": [
        {
          "output_type": "execute_result",
          "data": {
            "text/plain": [
              "   gender       age  hypertension  heart_disease  ever_married  work_type  \\\n",
              "0       0  1.040584             0              1             0          0   \n",
              "1       0  1.614270             0              1             0          0   \n",
              "2       1  0.246250             0              0             0          0   \n",
              "\n",
              "   Residence_type  avg_glucose_level       bmi  smoking_status  stroke  \n",
              "0               0           2.723411  1.193238               0       1  \n",
              "1               1          -0.000523  0.589390               1       1  \n",
              "2               0           1.448529  0.869222               2       1  "
            ],
            "text/html": [
              "\n",
              "  <div id=\"df-d93a821e-6394-40dd-b596-c2597c9ca45d\">\n",
              "    <div class=\"colab-df-container\">\n",
              "      <div>\n",
              "<style scoped>\n",
              "    .dataframe tbody tr th:only-of-type {\n",
              "        vertical-align: middle;\n",
              "    }\n",
              "\n",
              "    .dataframe tbody tr th {\n",
              "        vertical-align: top;\n",
              "    }\n",
              "\n",
              "    .dataframe thead th {\n",
              "        text-align: right;\n",
              "    }\n",
              "</style>\n",
              "<table border=\"1\" class=\"dataframe\">\n",
              "  <thead>\n",
              "    <tr style=\"text-align: right;\">\n",
              "      <th></th>\n",
              "      <th>gender</th>\n",
              "      <th>age</th>\n",
              "      <th>hypertension</th>\n",
              "      <th>heart_disease</th>\n",
              "      <th>ever_married</th>\n",
              "      <th>work_type</th>\n",
              "      <th>Residence_type</th>\n",
              "      <th>avg_glucose_level</th>\n",
              "      <th>bmi</th>\n",
              "      <th>smoking_status</th>\n",
              "      <th>stroke</th>\n",
              "    </tr>\n",
              "  </thead>\n",
              "  <tbody>\n",
              "    <tr>\n",
              "      <th>0</th>\n",
              "      <td>0</td>\n",
              "      <td>1.040584</td>\n",
              "      <td>0</td>\n",
              "      <td>1</td>\n",
              "      <td>0</td>\n",
              "      <td>0</td>\n",
              "      <td>0</td>\n",
              "      <td>2.723411</td>\n",
              "      <td>1.193238</td>\n",
              "      <td>0</td>\n",
              "      <td>1</td>\n",
              "    </tr>\n",
              "    <tr>\n",
              "      <th>1</th>\n",
              "      <td>0</td>\n",
              "      <td>1.614270</td>\n",
              "      <td>0</td>\n",
              "      <td>1</td>\n",
              "      <td>0</td>\n",
              "      <td>0</td>\n",
              "      <td>1</td>\n",
              "      <td>-0.000523</td>\n",
              "      <td>0.589390</td>\n",
              "      <td>1</td>\n",
              "      <td>1</td>\n",
              "    </tr>\n",
              "    <tr>\n",
              "      <th>2</th>\n",
              "      <td>1</td>\n",
              "      <td>0.246250</td>\n",
              "      <td>0</td>\n",
              "      <td>0</td>\n",
              "      <td>0</td>\n",
              "      <td>0</td>\n",
              "      <td>0</td>\n",
              "      <td>1.448529</td>\n",
              "      <td>0.869222</td>\n",
              "      <td>2</td>\n",
              "      <td>1</td>\n",
              "    </tr>\n",
              "  </tbody>\n",
              "</table>\n",
              "</div>\n",
              "      <button class=\"colab-df-convert\" onclick=\"convertToInteractive('df-d93a821e-6394-40dd-b596-c2597c9ca45d')\"\n",
              "              title=\"Convert this dataframe to an interactive table.\"\n",
              "              style=\"display:none;\">\n",
              "        \n",
              "  <svg xmlns=\"http://www.w3.org/2000/svg\" height=\"24px\"viewBox=\"0 0 24 24\"\n",
              "       width=\"24px\">\n",
              "    <path d=\"M0 0h24v24H0V0z\" fill=\"none\"/>\n",
              "    <path d=\"M18.56 5.44l.94 2.06.94-2.06 2.06-.94-2.06-.94-.94-2.06-.94 2.06-2.06.94zm-11 1L8.5 8.5l.94-2.06 2.06-.94-2.06-.94L8.5 2.5l-.94 2.06-2.06.94zm10 10l.94 2.06.94-2.06 2.06-.94-2.06-.94-.94-2.06-.94 2.06-2.06.94z\"/><path d=\"M17.41 7.96l-1.37-1.37c-.4-.4-.92-.59-1.43-.59-.52 0-1.04.2-1.43.59L10.3 9.45l-7.72 7.72c-.78.78-.78 2.05 0 2.83L4 21.41c.39.39.9.59 1.41.59.51 0 1.02-.2 1.41-.59l7.78-7.78 2.81-2.81c.8-.78.8-2.07 0-2.86zM5.41 20L4 18.59l7.72-7.72 1.47 1.35L5.41 20z\"/>\n",
              "  </svg>\n",
              "      </button>\n",
              "      \n",
              "  <style>\n",
              "    .colab-df-container {\n",
              "      display:flex;\n",
              "      flex-wrap:wrap;\n",
              "      gap: 12px;\n",
              "    }\n",
              "\n",
              "    .colab-df-convert {\n",
              "      background-color: #E8F0FE;\n",
              "      border: none;\n",
              "      border-radius: 50%;\n",
              "      cursor: pointer;\n",
              "      display: none;\n",
              "      fill: #1967D2;\n",
              "      height: 32px;\n",
              "      padding: 0 0 0 0;\n",
              "      width: 32px;\n",
              "    }\n",
              "\n",
              "    .colab-df-convert:hover {\n",
              "      background-color: #E2EBFA;\n",
              "      box-shadow: 0px 1px 2px rgba(60, 64, 67, 0.3), 0px 1px 3px 1px rgba(60, 64, 67, 0.15);\n",
              "      fill: #174EA6;\n",
              "    }\n",
              "\n",
              "    [theme=dark] .colab-df-convert {\n",
              "      background-color: #3B4455;\n",
              "      fill: #D2E3FC;\n",
              "    }\n",
              "\n",
              "    [theme=dark] .colab-df-convert:hover {\n",
              "      background-color: #434B5C;\n",
              "      box-shadow: 0px 1px 3px 1px rgba(0, 0, 0, 0.15);\n",
              "      filter: drop-shadow(0px 1px 2px rgba(0, 0, 0, 0.3));\n",
              "      fill: #FFFFFF;\n",
              "    }\n",
              "  </style>\n",
              "\n",
              "      <script>\n",
              "        const buttonEl =\n",
              "          document.querySelector('#df-d93a821e-6394-40dd-b596-c2597c9ca45d button.colab-df-convert');\n",
              "        buttonEl.style.display =\n",
              "          google.colab.kernel.accessAllowed ? 'block' : 'none';\n",
              "\n",
              "        async function convertToInteractive(key) {\n",
              "          const element = document.querySelector('#df-d93a821e-6394-40dd-b596-c2597c9ca45d');\n",
              "          const dataTable =\n",
              "            await google.colab.kernel.invokeFunction('convertToInteractive',\n",
              "                                                     [key], {});\n",
              "          if (!dataTable) return;\n",
              "\n",
              "          const docLinkHtml = 'Like what you see? Visit the ' +\n",
              "            '<a target=\"_blank\" href=https://colab.research.google.com/notebooks/data_table.ipynb>data table notebook</a>'\n",
              "            + ' to learn more about interactive tables.';\n",
              "          element.innerHTML = '';\n",
              "          dataTable['output_type'] = 'display_data';\n",
              "          await google.colab.output.renderOutput(dataTable, element);\n",
              "          const docLink = document.createElement('div');\n",
              "          docLink.innerHTML = docLinkHtml;\n",
              "          element.appendChild(docLink);\n",
              "        }\n",
              "      </script>\n",
              "    </div>\n",
              "  </div>\n",
              "  "
            ]
          },
          "metadata": {},
          "execution_count": 4
        }
      ]
    },
    {
      "cell_type": "markdown",
      "source": [
        "# Change 'Unknown' with specific value in column 'smoking_status'"
      ],
      "metadata": {
        "id": "zF3U9uvT7mcl"
      }
    },
    {
      "cell_type": "code",
      "source": [
        "# ss means smoking_status\n",
        "unknown_ss_indices = dataframe.index[dataframe['smoking_status'] == 3].tolist()\n",
        "unknown_ss_dataframe = dataframe.iloc[unknown_ss_indices]\n",
        "known_ss_dataframe = dataframe.copy()\n",
        "known_ss_dataframe.drop(unknown_ss_indices, inplace=True)\n",
        "unknown_ss_dataframe.shape, known_ss_dataframe.shape"
      ],
      "metadata": {
        "colab": {
          "base_uri": "https://localhost:8080/"
        },
        "id": "JPMqY3DoyJZC",
        "outputId": "b1553aa7-8923-4c80-f3b2-75d802bcb3cd"
      },
      "execution_count": 5,
      "outputs": [
        {
          "output_type": "execute_result",
          "data": {
            "text/plain": [
              "((1500, 11), (3481, 11))"
            ]
          },
          "metadata": {},
          "execution_count": 5
        }
      ]
    },
    {
      "cell_type": "code",
      "source": [
        "unknown_ss_dataframe.drop(['smoking_status'], axis=1)\n",
        "X_unknown = unknown_ss_dataframe.to_numpy()\n",
        "\n",
        "y_known = known_ss_dataframe['smoking_status']\n",
        "known_ss_dataframe.drop(['smoking_status'], axis=1)\n",
        "X_known = known_ss_dataframe.to_numpy()\n",
        "\n",
        "X_known.shape, y_known.shape, X_unknown.shape"
      ],
      "metadata": {
        "colab": {
          "base_uri": "https://localhost:8080/"
        },
        "id": "zYJHBKwD44cR",
        "outputId": "49dcf8db-6e30-47da-c91f-60d3acffb4ef"
      },
      "execution_count": 6,
      "outputs": [
        {
          "output_type": "execute_result",
          "data": {
            "text/plain": [
              "((3481, 11), (3481,), (1500, 11))"
            ]
          },
          "metadata": {},
          "execution_count": 6
        }
      ]
    },
    {
      "cell_type": "code",
      "source": [
        "from sklearn.tree import DecisionTreeClassifier\n",
        "import numpy as np\n",
        "\n",
        "classifier = DecisionTreeClassifier().fit(X_known, y_known)\n",
        "y_unknown = classifier.predict(X_unknown)\n",
        "\n",
        "dataframe.loc[unknown_ss_indices,['smoking_status']] = y_unknown"
      ],
      "metadata": {
        "id": "fHiHiJjB4qzH"
      },
      "execution_count": 7,
      "outputs": []
    },
    {
      "cell_type": "markdown",
      "source": [
        "# Split data"
      ],
      "metadata": {
        "id": "yutEwof6B1MM"
      }
    },
    {
      "cell_type": "code",
      "source": [
        "X = dataframe.copy()\n",
        "X.drop(['stroke'], axis=1)\n",
        "\n",
        "y = dataframe['stroke']\n",
        "\n",
        "X, y = X.to_numpy(), y.to_numpy()\n",
        "X.shape, y.shape"
      ],
      "metadata": {
        "colab": {
          "base_uri": "https://localhost:8080/"
        },
        "id": "Fj7Et2NrD9IY",
        "outputId": "a261e620-0f45-46ab-9681-9d5c3ad323bd"
      },
      "execution_count": 8,
      "outputs": [
        {
          "output_type": "execute_result",
          "data": {
            "text/plain": [
              "((4981, 11), (4981,))"
            ]
          },
          "metadata": {},
          "execution_count": 8
        }
      ]
    },
    {
      "cell_type": "code",
      "source": [
        "from sklearn.model_selection import train_test_split\n",
        "\n",
        "X_train, X_test, y_train, y_test = train_test_split(X, y, test_size=0.3, random_state=42)\n",
        "X_test, X_val, y_test, y_val = train_test_split(X_test, y_test, test_size=0.5, random_state=42)\n",
        "X_train.shape, X_test.shape, X_val.shape"
      ],
      "metadata": {
        "colab": {
          "base_uri": "https://localhost:8080/"
        },
        "id": "sDmaEcalCTWC",
        "outputId": "8bd6d97f-bd50-41cb-d153-44dbd644acf6"
      },
      "execution_count": 9,
      "outputs": [
        {
          "output_type": "execute_result",
          "data": {
            "text/plain": [
              "((3486, 11), (747, 11), (748, 11))"
            ]
          },
          "metadata": {},
          "execution_count": 9
        }
      ]
    },
    {
      "cell_type": "markdown",
      "source": [
        "# Predict Stroke"
      ],
      "metadata": {
        "id": "12CuVHg8Si04"
      }
    },
    {
      "cell_type": "code",
      "source": [
        "from sklearn.svm import SVC\n",
        "from sklearn.model_selection import GridSearchCV\n",
        " \n",
        "param_grid = {'C': [0.1, 1, 10, 100, 1000],\n",
        "              'gamma': [1, 0.1, 0.01, 0.001, 0.0001],\n",
        "              'kernel': ['rbf']}\n",
        " \n",
        "grid = GridSearchCV(SVC(), param_grid, refit = True, verbose = 3)\n",
        "grid.fit(X_train, y_train)\n",
        "grid.best_params_, grid.best_estimator_"
      ],
      "metadata": {
        "colab": {
          "base_uri": "https://localhost:8080/"
        },
        "id": "l4KPtOQISlcF",
        "outputId": "712cf5cf-d88c-4e74-8ec7-752eea487d9e"
      },
      "execution_count": 10,
      "outputs": [
        {
          "output_type": "stream",
          "name": "stdout",
          "text": [
            "Fitting 5 folds for each of 25 candidates, totalling 125 fits\n",
            "[CV 1/5] END ........C=0.1, gamma=1, kernel=rbf;, score=0.951 total time=   0.3s\n",
            "[CV 2/5] END ........C=0.1, gamma=1, kernel=rbf;, score=0.951 total time=   0.2s\n",
            "[CV 3/5] END ........C=0.1, gamma=1, kernel=rbf;, score=0.951 total time=   0.3s\n",
            "[CV 4/5] END ........C=0.1, gamma=1, kernel=rbf;, score=0.951 total time=   0.3s\n",
            "[CV 5/5] END ........C=0.1, gamma=1, kernel=rbf;, score=0.951 total time=   0.3s\n",
            "[CV 1/5] END ......C=0.1, gamma=0.1, kernel=rbf;, score=0.987 total time=   0.1s\n",
            "[CV 2/5] END ......C=0.1, gamma=0.1, kernel=rbf;, score=0.987 total time=   0.1s\n",
            "[CV 3/5] END ......C=0.1, gamma=0.1, kernel=rbf;, score=0.987 total time=   0.1s\n",
            "[CV 4/5] END ......C=0.1, gamma=0.1, kernel=rbf;, score=0.986 total time=   0.1s\n",
            "[CV 5/5] END ......C=0.1, gamma=0.1, kernel=rbf;, score=0.986 total time=   0.1s\n",
            "[CV 1/5] END .....C=0.1, gamma=0.01, kernel=rbf;, score=0.951 total time=   0.1s\n",
            "[CV 2/5] END .....C=0.1, gamma=0.01, kernel=rbf;, score=0.951 total time=   0.1s\n",
            "[CV 3/5] END .....C=0.1, gamma=0.01, kernel=rbf;, score=0.951 total time=   0.1s\n",
            "[CV 4/5] END .....C=0.1, gamma=0.01, kernel=rbf;, score=0.951 total time=   0.1s\n",
            "[CV 5/5] END .....C=0.1, gamma=0.01, kernel=rbf;, score=0.951 total time=   0.1s\n",
            "[CV 1/5] END ....C=0.1, gamma=0.001, kernel=rbf;, score=0.951 total time=   0.1s\n",
            "[CV 2/5] END ....C=0.1, gamma=0.001, kernel=rbf;, score=0.951 total time=   0.1s\n",
            "[CV 3/5] END ....C=0.1, gamma=0.001, kernel=rbf;, score=0.951 total time=   0.1s\n",
            "[CV 4/5] END ....C=0.1, gamma=0.001, kernel=rbf;, score=0.951 total time=   0.1s\n",
            "[CV 5/5] END ....C=0.1, gamma=0.001, kernel=rbf;, score=0.951 total time=   0.1s\n",
            "[CV 1/5] END ...C=0.1, gamma=0.0001, kernel=rbf;, score=0.951 total time=   0.1s\n",
            "[CV 2/5] END ...C=0.1, gamma=0.0001, kernel=rbf;, score=0.951 total time=   0.1s\n",
            "[CV 3/5] END ...C=0.1, gamma=0.0001, kernel=rbf;, score=0.951 total time=   0.1s\n",
            "[CV 4/5] END ...C=0.1, gamma=0.0001, kernel=rbf;, score=0.951 total time=   0.1s\n",
            "[CV 5/5] END ...C=0.1, gamma=0.0001, kernel=rbf;, score=0.951 total time=   0.1s\n",
            "[CV 1/5] END ..........C=1, gamma=1, kernel=rbf;, score=0.981 total time=   0.3s\n",
            "[CV 2/5] END ..........C=1, gamma=1, kernel=rbf;, score=0.978 total time=   0.3s\n",
            "[CV 3/5] END ..........C=1, gamma=1, kernel=rbf;, score=0.981 total time=   0.3s\n",
            "[CV 4/5] END ..........C=1, gamma=1, kernel=rbf;, score=0.983 total time=   0.3s\n",
            "[CV 5/5] END ..........C=1, gamma=1, kernel=rbf;, score=0.974 total time=   0.3s\n",
            "[CV 1/5] END ........C=1, gamma=0.1, kernel=rbf;, score=1.000 total time=   0.1s\n",
            "[CV 2/5] END ........C=1, gamma=0.1, kernel=rbf;, score=1.000 total time=   0.1s\n",
            "[CV 3/5] END ........C=1, gamma=0.1, kernel=rbf;, score=1.000 total time=   0.1s\n",
            "[CV 4/5] END ........C=1, gamma=0.1, kernel=rbf;, score=1.000 total time=   0.1s\n",
            "[CV 5/5] END ........C=1, gamma=0.1, kernel=rbf;, score=1.000 total time=   0.1s\n",
            "[CV 1/5] END .......C=1, gamma=0.01, kernel=rbf;, score=1.000 total time=   0.1s\n",
            "[CV 2/5] END .......C=1, gamma=0.01, kernel=rbf;, score=1.000 total time=   0.1s\n",
            "[CV 3/5] END .......C=1, gamma=0.01, kernel=rbf;, score=1.000 total time=   0.1s\n",
            "[CV 4/5] END .......C=1, gamma=0.01, kernel=rbf;, score=1.000 total time=   0.1s\n",
            "[CV 5/5] END .......C=1, gamma=0.01, kernel=rbf;, score=1.000 total time=   0.1s\n",
            "[CV 1/5] END ......C=1, gamma=0.001, kernel=rbf;, score=0.951 total time=   0.1s\n",
            "[CV 2/5] END ......C=1, gamma=0.001, kernel=rbf;, score=0.951 total time=   0.1s\n",
            "[CV 3/5] END ......C=1, gamma=0.001, kernel=rbf;, score=0.951 total time=   0.1s\n",
            "[CV 4/5] END ......C=1, gamma=0.001, kernel=rbf;, score=0.951 total time=   0.1s\n",
            "[CV 5/5] END ......C=1, gamma=0.001, kernel=rbf;, score=0.951 total time=   0.1s\n",
            "[CV 1/5] END .....C=1, gamma=0.0001, kernel=rbf;, score=0.951 total time=   0.1s\n",
            "[CV 2/5] END .....C=1, gamma=0.0001, kernel=rbf;, score=0.951 total time=   0.1s\n",
            "[CV 3/5] END .....C=1, gamma=0.0001, kernel=rbf;, score=0.951 total time=   0.1s\n",
            "[CV 4/5] END .....C=1, gamma=0.0001, kernel=rbf;, score=0.951 total time=   0.1s\n",
            "[CV 5/5] END .....C=1, gamma=0.0001, kernel=rbf;, score=0.951 total time=   0.1s\n",
            "[CV 1/5] END .........C=10, gamma=1, kernel=rbf;, score=0.983 total time=   0.3s\n",
            "[CV 2/5] END .........C=10, gamma=1, kernel=rbf;, score=0.981 total time=   0.3s\n",
            "[CV 3/5] END .........C=10, gamma=1, kernel=rbf;, score=0.986 total time=   0.3s\n",
            "[CV 4/5] END .........C=10, gamma=1, kernel=rbf;, score=0.986 total time=   0.3s\n",
            "[CV 5/5] END .........C=10, gamma=1, kernel=rbf;, score=0.976 total time=   0.3s\n",
            "[CV 1/5] END .......C=10, gamma=0.1, kernel=rbf;, score=1.000 total time=   0.0s\n",
            "[CV 2/5] END .......C=10, gamma=0.1, kernel=rbf;, score=1.000 total time=   0.0s\n",
            "[CV 3/5] END .......C=10, gamma=0.1, kernel=rbf;, score=1.000 total time=   0.0s\n",
            "[CV 4/5] END .......C=10, gamma=0.1, kernel=rbf;, score=1.000 total time=   0.0s\n",
            "[CV 5/5] END .......C=10, gamma=0.1, kernel=rbf;, score=1.000 total time=   0.0s\n",
            "[CV 1/5] END ......C=10, gamma=0.01, kernel=rbf;, score=1.000 total time=   0.0s\n",
            "[CV 2/5] END ......C=10, gamma=0.01, kernel=rbf;, score=1.000 total time=   0.0s\n",
            "[CV 3/5] END ......C=10, gamma=0.01, kernel=rbf;, score=1.000 total time=   0.0s\n",
            "[CV 4/5] END ......C=10, gamma=0.01, kernel=rbf;, score=1.000 total time=   0.0s\n",
            "[CV 5/5] END ......C=10, gamma=0.01, kernel=rbf;, score=1.000 total time=   0.0s\n",
            "[CV 1/5] END .....C=10, gamma=0.001, kernel=rbf;, score=1.000 total time=   0.1s\n",
            "[CV 2/5] END .....C=10, gamma=0.001, kernel=rbf;, score=1.000 total time=   0.1s\n",
            "[CV 3/5] END .....C=10, gamma=0.001, kernel=rbf;, score=1.000 total time=   0.1s\n",
            "[CV 4/5] END .....C=10, gamma=0.001, kernel=rbf;, score=1.000 total time=   0.1s\n",
            "[CV 5/5] END .....C=10, gamma=0.001, kernel=rbf;, score=1.000 total time=   0.1s\n",
            "[CV 1/5] END ....C=10, gamma=0.0001, kernel=rbf;, score=0.951 total time=   0.1s\n",
            "[CV 2/5] END ....C=10, gamma=0.0001, kernel=rbf;, score=0.951 total time=   0.1s\n",
            "[CV 3/5] END ....C=10, gamma=0.0001, kernel=rbf;, score=0.951 total time=   0.1s\n",
            "[CV 4/5] END ....C=10, gamma=0.0001, kernel=rbf;, score=0.951 total time=   0.1s\n",
            "[CV 5/5] END ....C=10, gamma=0.0001, kernel=rbf;, score=0.951 total time=   0.1s\n",
            "[CV 1/5] END ........C=100, gamma=1, kernel=rbf;, score=0.983 total time=   0.3s\n",
            "[CV 2/5] END ........C=100, gamma=1, kernel=rbf;, score=0.981 total time=   0.3s\n",
            "[CV 3/5] END ........C=100, gamma=1, kernel=rbf;, score=0.986 total time=   0.3s\n",
            "[CV 4/5] END ........C=100, gamma=1, kernel=rbf;, score=0.986 total time=   0.3s\n",
            "[CV 5/5] END ........C=100, gamma=1, kernel=rbf;, score=0.976 total time=   0.3s\n",
            "[CV 1/5] END ......C=100, gamma=0.1, kernel=rbf;, score=1.000 total time=   0.1s\n",
            "[CV 2/5] END ......C=100, gamma=0.1, kernel=rbf;, score=1.000 total time=   0.1s\n",
            "[CV 3/5] END ......C=100, gamma=0.1, kernel=rbf;, score=1.000 total time=   0.1s\n",
            "[CV 4/5] END ......C=100, gamma=0.1, kernel=rbf;, score=1.000 total time=   0.1s\n",
            "[CV 5/5] END ......C=100, gamma=0.1, kernel=rbf;, score=1.000 total time=   0.1s\n",
            "[CV 1/5] END .....C=100, gamma=0.01, kernel=rbf;, score=1.000 total time=   0.1s\n",
            "[CV 2/5] END .....C=100, gamma=0.01, kernel=rbf;, score=1.000 total time=   0.1s\n",
            "[CV 3/5] END .....C=100, gamma=0.01, kernel=rbf;, score=1.000 total time=   0.1s\n",
            "[CV 4/5] END .....C=100, gamma=0.01, kernel=rbf;, score=1.000 total time=   0.1s\n",
            "[CV 5/5] END .....C=100, gamma=0.01, kernel=rbf;, score=1.000 total time=   0.0s\n",
            "[CV 1/5] END ....C=100, gamma=0.001, kernel=rbf;, score=1.000 total time=   0.1s\n",
            "[CV 2/5] END ....C=100, gamma=0.001, kernel=rbf;, score=1.000 total time=   0.2s\n",
            "[CV 3/5] END ....C=100, gamma=0.001, kernel=rbf;, score=1.000 total time=   0.1s\n",
            "[CV 4/5] END ....C=100, gamma=0.001, kernel=rbf;, score=1.000 total time=   0.2s\n",
            "[CV 5/5] END ....C=100, gamma=0.001, kernel=rbf;, score=1.000 total time=   0.2s\n",
            "[CV 1/5] END ...C=100, gamma=0.0001, kernel=rbf;, score=1.000 total time=   0.4s\n",
            "[CV 2/5] END ...C=100, gamma=0.0001, kernel=rbf;, score=1.000 total time=   0.4s\n",
            "[CV 3/5] END ...C=100, gamma=0.0001, kernel=rbf;, score=1.000 total time=   0.4s\n",
            "[CV 4/5] END ...C=100, gamma=0.0001, kernel=rbf;, score=1.000 total time=   0.2s\n",
            "[CV 5/5] END ...C=100, gamma=0.0001, kernel=rbf;, score=1.000 total time=   0.2s\n",
            "[CV 1/5] END .......C=1000, gamma=1, kernel=rbf;, score=0.983 total time=   0.3s\n",
            "[CV 2/5] END .......C=1000, gamma=1, kernel=rbf;, score=0.981 total time=   0.3s\n",
            "[CV 3/5] END .......C=1000, gamma=1, kernel=rbf;, score=0.986 total time=   0.3s\n",
            "[CV 4/5] END .......C=1000, gamma=1, kernel=rbf;, score=0.986 total time=   0.3s\n",
            "[CV 5/5] END .......C=1000, gamma=1, kernel=rbf;, score=0.976 total time=   0.3s\n",
            "[CV 1/5] END .....C=1000, gamma=0.1, kernel=rbf;, score=1.000 total time=   0.0s\n",
            "[CV 2/5] END .....C=1000, gamma=0.1, kernel=rbf;, score=1.000 total time=   0.0s\n",
            "[CV 3/5] END .....C=1000, gamma=0.1, kernel=rbf;, score=1.000 total time=   0.0s\n",
            "[CV 4/5] END .....C=1000, gamma=0.1, kernel=rbf;, score=1.000 total time=   0.0s\n",
            "[CV 5/5] END .....C=1000, gamma=0.1, kernel=rbf;, score=1.000 total time=   0.0s\n",
            "[CV 1/5] END ....C=1000, gamma=0.01, kernel=rbf;, score=1.000 total time=   0.0s\n",
            "[CV 2/5] END ....C=1000, gamma=0.01, kernel=rbf;, score=1.000 total time=   0.0s\n",
            "[CV 3/5] END ....C=1000, gamma=0.01, kernel=rbf;, score=1.000 total time=   0.0s\n",
            "[CV 4/5] END ....C=1000, gamma=0.01, kernel=rbf;, score=1.000 total time=   0.0s\n",
            "[CV 5/5] END ....C=1000, gamma=0.01, kernel=rbf;, score=1.000 total time=   0.0s\n",
            "[CV 1/5] END ...C=1000, gamma=0.001, kernel=rbf;, score=1.000 total time=   0.1s\n",
            "[CV 2/5] END ...C=1000, gamma=0.001, kernel=rbf;, score=1.000 total time=   0.1s\n",
            "[CV 3/5] END ...C=1000, gamma=0.001, kernel=rbf;, score=1.000 total time=   0.1s\n",
            "[CV 4/5] END ...C=1000, gamma=0.001, kernel=rbf;, score=1.000 total time=   0.1s\n",
            "[CV 5/5] END ...C=1000, gamma=0.001, kernel=rbf;, score=1.000 total time=   0.1s\n",
            "[CV 1/5] END ..C=1000, gamma=0.0001, kernel=rbf;, score=1.000 total time=   0.1s\n",
            "[CV 2/5] END ..C=1000, gamma=0.0001, kernel=rbf;, score=1.000 total time=   0.1s\n",
            "[CV 3/5] END ..C=1000, gamma=0.0001, kernel=rbf;, score=1.000 total time=   0.1s\n",
            "[CV 4/5] END ..C=1000, gamma=0.0001, kernel=rbf;, score=1.000 total time=   0.2s\n",
            "[CV 5/5] END ..C=1000, gamma=0.0001, kernel=rbf;, score=1.000 total time=   0.1s\n"
          ]
        },
        {
          "output_type": "execute_result",
          "data": {
            "text/plain": [
              "({'C': 1, 'gamma': 0.1, 'kernel': 'rbf'}, SVC(C=1, gamma=0.1))"
            ]
          },
          "metadata": {},
          "execution_count": 10
        }
      ]
    },
    {
      "cell_type": "code",
      "source": [
        "from sklearn.metrics import classification_report\n",
        "\n",
        "y_pred = grid.predict(X_test)\n",
        "print(classification_report(y_test, y_pred))"
      ],
      "metadata": {
        "colab": {
          "base_uri": "https://localhost:8080/"
        },
        "id": "ZxLDOxF9SpfL",
        "outputId": "b61c0101-63d7-4699-838a-104ab541eebe"
      },
      "execution_count": 12,
      "outputs": [
        {
          "output_type": "stream",
          "name": "stdout",
          "text": [
            "              precision    recall  f1-score   support\n",
            "\n",
            "           0       1.00      1.00      1.00       702\n",
            "           1       1.00      0.96      0.98        45\n",
            "\n",
            "    accuracy                           1.00       747\n",
            "   macro avg       1.00      0.98      0.99       747\n",
            "weighted avg       1.00      1.00      1.00       747\n",
            "\n"
          ]
        }
      ]
    }
  ]
}