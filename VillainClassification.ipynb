{
  "nbformat": 4,
  "nbformat_minor": 0,
  "metadata": {
    "colab": {
      "name": "VillainClassification.ipynb",
      "provenance": [],
      "authorship_tag": "ABX9TyPI8w3zp4tsVT4Tu1eCOTnd",
      "include_colab_link": true
    },
    "kernelspec": {
      "name": "python3",
      "display_name": "Python 3"
    },
    "language_info": {
      "name": "python"
    }
  },
  "cells": [
    {
      "cell_type": "markdown",
      "metadata": {
        "id": "view-in-github",
        "colab_type": "text"
      },
      "source": [
        "<a href=\"https://colab.research.google.com/github/oktaviacitra/classification/blob/main/VillainClassification.ipynb\" target=\"_parent\"><img src=\"https://colab.research.google.com/assets/colab-badge.svg\" alt=\"Open In Colab\"/></a>"
      ]
    },
    {
      "cell_type": "code",
      "execution_count": 1,
      "metadata": {
        "colab": {
          "base_uri": "https://localhost:8080/"
        },
        "id": "5ioK88NuBHUM",
        "outputId": "70898942-3994-4984-d46d-e1f3f84d52fb"
      },
      "outputs": [
        {
          "output_type": "stream",
          "name": "stdout",
          "text": [
            "Mounted at /content/drive\n"
          ]
        }
      ],
      "source": [
        "from google.colab import drive\n",
        "\n",
        "origin_path = \"/content/drive\"\n",
        "drive.mount(origin_path)\n",
        "\n",
        "folder_path = origin_path + \"/MyDrive/Learning Journey/Villain Data/\""
      ]
    },
    {
      "cell_type": "code",
      "source": [
        "class_labels = [\"Vader\", \"Green Goblin\", \"Joker\", \"Thanos\", \"Venom\"]\n",
        "image_files = [ (folder_path + label + \"/\" + label + \" \" + str(i) + \".jpg\") for i in range(1, 21) for label in class_labels]\n",
        "len(image_files)"
      ],
      "metadata": {
        "colab": {
          "base_uri": "https://localhost:8080/"
        },
        "id": "GRH6WbiEELaw",
        "outputId": "b9334531-6ace-4274-b576-194a9b4810f2"
      },
      "execution_count": 7,
      "outputs": [
        {
          "output_type": "execute_result",
          "data": {
            "text/plain": [
              "100"
            ]
          },
          "metadata": {},
          "execution_count": 7
        }
      ]
    },
    {
      "cell_type": "code",
      "source": [
        "import tensorflow\n",
        "import numpy as np\n",
        "from PIL import Image\n",
        "from tensorflow.keras.preprocessing import image\n",
        "\n",
        "def preprocessing_image(path, target):\n",
        "    img = Image.open(path)\n",
        "\n",
        "    # crop central\n",
        "    width, height = img.size\n",
        "    new_width = new_height = width\n",
        "    left = (width - new_width)/2\n",
        "    top = (height - new_height)/2\n",
        "    right = (width + new_width)/2\n",
        "    bottom = (height + new_height)/2\n",
        "    img = img.crop((left, top, right, bottom))\n",
        "\n",
        "    # convert to array of rgb\n",
        "    img = img.resize(target)\n",
        "    img = img.convert('RGB')\n",
        "    x = image.img_to_array(img)\n",
        "    x = x[:, :, :3]\n",
        "    x = np.true_divide(x, 255)\n",
        "    return x"
      ],
      "metadata": {
        "id": "pK1ZNXe5GcH1"
      },
      "execution_count": 8,
      "outputs": []
    },
    {
      "cell_type": "code",
      "source": [
        "X = np.asarray([preprocessing_image(image_file, (128,128)) for image_file in image_files])\n",
        "y = np.asarray([ label for i in range(1, 21) for label in class_labels])\n",
        "X.shape, y.shape"
      ],
      "metadata": {
        "colab": {
          "base_uri": "https://localhost:8080/"
        },
        "id": "ICaKWuQCTPF3",
        "outputId": "804e5a18-097a-465b-9f76-a3dcb9b2ad57"
      },
      "execution_count": 10,
      "outputs": [
        {
          "output_type": "execute_result",
          "data": {
            "text/plain": [
              "((100, 128, 128, 3), (100,))"
            ]
          },
          "metadata": {},
          "execution_count": 10
        }
      ]
    }
  ]
}