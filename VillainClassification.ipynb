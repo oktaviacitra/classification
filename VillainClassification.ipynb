{
  "nbformat": 4,
  "nbformat_minor": 0,
  "metadata": {
    "colab": {
      "name": "VillainClassification.ipynb",
      "provenance": [],
      "authorship_tag": "ABX9TyMZPHHlBadBmYGpoQKP+OKh",
      "include_colab_link": true
    },
    "kernelspec": {
      "name": "python3",
      "display_name": "Python 3"
    },
    "language_info": {
      "name": "python"
    },
    "accelerator": "GPU",
    "gpuClass": "standard"
  },
  "cells": [
    {
      "cell_type": "markdown",
      "metadata": {
        "id": "view-in-github",
        "colab_type": "text"
      },
      "source": [
        "<a href=\"https://colab.research.google.com/github/oktaviacitra/classification/blob/main/VillainClassification.ipynb\" target=\"_parent\"><img src=\"https://colab.research.google.com/assets/colab-badge.svg\" alt=\"Open In Colab\"/></a>"
      ]
    },
    {
      "cell_type": "code",
      "execution_count": 1,
      "metadata": {
        "colab": {
          "base_uri": "https://localhost:8080/"
        },
        "id": "5ioK88NuBHUM",
        "outputId": "6e5d088e-2ef9-4dcc-caa3-d38aa15e2eeb"
      },
      "outputs": [
        {
          "output_type": "stream",
          "name": "stdout",
          "text": [
            "Mounted at /content/drive\n"
          ]
        }
      ],
      "source": [
        "from google.colab import drive\n",
        "\n",
        "origin_path = \"/content/drive\"\n",
        "drive.mount(origin_path)\n",
        "\n",
        "folder_path = origin_path + \"/MyDrive/Learning Journey/Villain Data/\""
      ]
    },
    {
      "cell_type": "code",
      "source": [
        "class_labels = [\"Vader\", \"Green Goblin\", \"Joker\", \"Thanos\", \"Venom\"]\n",
        "image_files = [ (folder_path + label + \"/\" + label + \" \" + str(i) + \".jpg\") for i in range(1, 21) for label in class_labels]\n",
        "len(image_files)"
      ],
      "metadata": {
        "colab": {
          "base_uri": "https://localhost:8080/"
        },
        "id": "GRH6WbiEELaw",
        "outputId": "cff85711-386d-4b44-a2b4-d4ef84e5cf1d"
      },
      "execution_count": 2,
      "outputs": [
        {
          "output_type": "execute_result",
          "data": {
            "text/plain": [
              "100"
            ]
          },
          "metadata": {},
          "execution_count": 2
        }
      ]
    },
    {
      "cell_type": "code",
      "source": [
        "import tensorflow\n",
        "import numpy as np\n",
        "from PIL import Image\n",
        "from tensorflow.keras.preprocessing import image\n",
        "\n",
        "def preprocessing_image(path, target):\n",
        "    img = Image.open(path)\n",
        "\n",
        "    # crop central\n",
        "    width, height = img.size\n",
        "    new_width = new_height = width if width > height else height\n",
        "    left = (width - new_width)/2\n",
        "    top = (height - new_height)/2\n",
        "    right = (width + new_width)/2\n",
        "    bottom = (height + new_height)/2\n",
        "    img = img.crop((left, top, right, bottom))\n",
        "\n",
        "    # convert to array of rgb\n",
        "    img = img.resize(target)\n",
        "    img = img.convert('RGB')\n",
        "    x = image.img_to_array(img)\n",
        "    x = x[:, :, :3]\n",
        "    x = np.true_divide(x, 255)\n",
        "    return x"
      ],
      "metadata": {
        "id": "pK1ZNXe5GcH1"
      },
      "execution_count": 3,
      "outputs": []
    },
    {
      "cell_type": "code",
      "source": [
        "from sklearn.preprocessing import LabelEncoder\n",
        "\n",
        "X = np.asarray([preprocessing_image(image_file, (64,64)) for image_file in image_files])\n",
        "\n",
        "y = [ label for i in range(1, 21) for label in class_labels]\n",
        "le = LabelEncoder()\n",
        "le.fit(y)\n",
        "y = le.transform(y)\n",
        "\n",
        "\n",
        "X.shape, y.shape"
      ],
      "metadata": {
        "colab": {
          "base_uri": "https://localhost:8080/"
        },
        "id": "ICaKWuQCTPF3",
        "outputId": "9e6ac6d9-10f0-4e0e-a473-48176610fc45"
      },
      "execution_count": 4,
      "outputs": [
        {
          "output_type": "execute_result",
          "data": {
            "text/plain": [
              "((100, 64, 64, 3), (100,))"
            ]
          },
          "metadata": {},
          "execution_count": 4
        }
      ]
    },
    {
      "cell_type": "code",
      "source": [
        "from sklearn.model_selection import train_test_split\n",
        "\n",
        "X_train, X_test, y_train, y_test = train_test_split(X, y, test_size=0.3, random_state=42)\n",
        "X_test, X_val, y_test, y_val = train_test_split(X_test, y_test, test_size=0.5, random_state=42)\n",
        "X_train.shape, X_test.shape, X_val.shape"
      ],
      "metadata": {
        "colab": {
          "base_uri": "https://localhost:8080/"
        },
        "id": "zEFRI9oUyreI",
        "outputId": "a40654d5-f7ee-4c3e-eed5-2c8231b5dcd4"
      },
      "execution_count": 6,
      "outputs": [
        {
          "output_type": "execute_result",
          "data": {
            "text/plain": [
              "((70, 64, 64, 3), (15, 64, 64, 3), (15, 64, 64, 3))"
            ]
          },
          "metadata": {},
          "execution_count": 6
        }
      ]
    },
    {
      "cell_type": "code",
      "source": [
        "!pip install -q -U keras-tuner"
      ],
      "metadata": {
        "colab": {
          "base_uri": "https://localhost:8080/"
        },
        "id": "nAwfaDnJ0jsy",
        "outputId": "5d69d0c5-79b1-43af-d2d0-6b4bdb4ee12b"
      },
      "execution_count": 7,
      "outputs": [
        {
          "output_type": "stream",
          "name": "stdout",
          "text": [
            "\u001b[?25l\r\u001b[K     |██▍                             | 10 kB 31.0 MB/s eta 0:00:01\r\u001b[K     |████▉                           | 20 kB 34.2 MB/s eta 0:00:01\r\u001b[K     |███████▎                        | 30 kB 41.7 MB/s eta 0:00:01\r\u001b[K     |█████████▋                      | 40 kB 37.8 MB/s eta 0:00:01\r\u001b[K     |████████████                    | 51 kB 41.2 MB/s eta 0:00:01\r\u001b[K     |██████████████▌                 | 61 kB 45.4 MB/s eta 0:00:01\r\u001b[K     |█████████████████               | 71 kB 31.7 MB/s eta 0:00:01\r\u001b[K     |███████████████████▎            | 81 kB 32.3 MB/s eta 0:00:01\r\u001b[K     |█████████████████████▊          | 92 kB 34.2 MB/s eta 0:00:01\r\u001b[K     |████████████████████████▏       | 102 kB 36.0 MB/s eta 0:00:01\r\u001b[K     |██████████████████████████▋     | 112 kB 36.0 MB/s eta 0:00:01\r\u001b[K     |█████████████████████████████   | 122 kB 36.0 MB/s eta 0:00:01\r\u001b[K     |███████████████████████████████▍| 133 kB 36.0 MB/s eta 0:00:01\r\u001b[K     |████████████████████████████████| 135 kB 36.0 MB/s \n",
            "\u001b[?25h"
          ]
        }
      ]
    },
    {
      "cell_type": "code",
      "source": [
        "from tensorflow.keras import Input, Model, regularizers\n",
        "from tensorflow.keras.layers import Conv2D, MaxPooling2D, AveragePooling2D, BatchNormalization, Activation, GlobalMaxPool2D, GlobalAveragePooling2D, Dense, Dropout\n",
        "from tensorflow.keras.optimizers import Adam, SGD\n",
        "\n",
        "def model_builder(hp):\n",
        "  inputs = Input(shape=(64, 64, 3))\n",
        "  for i in range(hp.Int('conv_layers', 1, 5)):\n",
        "    x = Conv2D(filters = hp.Int(\"filters_\" + str(i), min_value=256, max_value=1024, step = 64),\n",
        "              kernel_size = hp.Int(\"kernel_size_\" + str(i), 3, 5),\n",
        "              padding=\"same\",\n",
        "              activation='relu',\n",
        "              dilation_rate=2,\n",
        "              kernel_initializer = \"he_normal\",\n",
        "              kernel_regularizer=regularizers.l2(0.001),\n",
        "              name=\"conv2d_\" + str(i))(inputs)\n",
        "\n",
        "    if hp.Choice('pooling', ['max', 'avg']) == 'max':\n",
        "      x = MaxPooling2D(name=\"maxpool2d_\" + str(i))(x)\n",
        "    else:\n",
        "      x = AveragePooling2D(name=\"averagepool2d_\" + str(i))(x)\n",
        "\n",
        "  x = BatchNormalization(name=\"batchnorm\")(x)\n",
        "  x = Dropout(0.1, name=\"dropout\")(x)\n",
        "  if hp.Choice('global_average', ['max', 'avg']) == 'max':\n",
        "    x = GlobalMaxPool2D(name=\"globalmaxpool\")(x)\n",
        "  else:\n",
        "    x = GlobalAveragePooling2D(name=\"averagepool2d\")(x)\n",
        "  \n",
        "  x = Activation('relu', name='activation')(x)\n",
        "  outputs = Dense(5, activation='softmax', name='prediction')(x)\n",
        "\n",
        "  model = Model(inputs=inputs, outputs=outputs)\n",
        "\n",
        "  learning_rate = hp.Choice('learning_rate', values=[1e-2, 1e-3, 1e-4])\n",
        "  optimizer = Adam(learning_rate=learning_rate) if hp.Choice('optimizer', ['adam', 'sgd']) == 'adam' else SGD(learning_rate=learning_rate)\n",
        "  \n",
        "  model.compile(optimizer=optimizer,\n",
        "                loss='sparse_categorical_crossentropy',\n",
        "                metrics=['accuracy'])\n",
        "\n",
        "  return model"
      ],
      "metadata": {
        "id": "xK4_t7O7k0Tn"
      },
      "execution_count": 8,
      "outputs": []
    },
    {
      "cell_type": "code",
      "source": [
        "import keras_tuner as kt\n",
        "\n",
        "tuner = kt.Hyperband(hypermodel = model_builder,\n",
        "                             objective = 'val_loss',\n",
        "                             max_epochs = 10,\n",
        "                             factor = 3,\n",
        "                             directory = folder_path + '/results_dir',\n",
        "                             project_name = 'villain')\n",
        "tuner.search_space_summary()"
      ],
      "metadata": {
        "colab": {
          "base_uri": "https://localhost:8080/"
        },
        "id": "urYg998ax9RK",
        "outputId": "ea56b65e-cba1-4a35-c822-fcd94de5a7b9"
      },
      "execution_count": 9,
      "outputs": [
        {
          "output_type": "stream",
          "name": "stdout",
          "text": [
            "Search space summary\n",
            "Default search space size: 7\n",
            "conv_layers (Int)\n",
            "{'default': None, 'conditions': [], 'min_value': 1, 'max_value': 5, 'step': 1, 'sampling': None}\n",
            "filters_0 (Int)\n",
            "{'default': None, 'conditions': [], 'min_value': 256, 'max_value': 1024, 'step': 64, 'sampling': None}\n",
            "kernel_size_0 (Int)\n",
            "{'default': None, 'conditions': [], 'min_value': 3, 'max_value': 5, 'step': 1, 'sampling': None}\n",
            "pooling (Choice)\n",
            "{'default': 'max', 'conditions': [], 'values': ['max', 'avg'], 'ordered': False}\n",
            "global_average (Choice)\n",
            "{'default': 'max', 'conditions': [], 'values': ['max', 'avg'], 'ordered': False}\n",
            "learning_rate (Choice)\n",
            "{'default': 0.01, 'conditions': [], 'values': [0.01, 0.001, 0.0001], 'ordered': True}\n",
            "optimizer (Choice)\n",
            "{'default': 'adam', 'conditions': [], 'values': ['adam', 'sgd'], 'ordered': False}\n"
          ]
        }
      ]
    },
    {
      "cell_type": "code",
      "source": [
        "from tensorflow.keras.callbacks import EarlyStopping, ModelCheckpoint\n",
        "\n",
        "best_weight = ModelCheckpoint(folder_path + \"tuner/{epoch:02d}-{val_loss:.4f}.h5\",\n",
        "                              monitor=\"val_loss\",\n",
        "                              mode=\"min\",\n",
        "                              save_best_only=True,\n",
        "                              verbose=1)\n",
        "stop_early = EarlyStopping(monitor='val_loss', patience=5)\n",
        "\n",
        "tuner.search(X_train, y_train, epochs=5,\n",
        "             validation_data=(X_val, y_val),\n",
        "             callbacks=[stop_early, best_weight],\n",
        "             verbose=2)"
      ],
      "metadata": {
        "colab": {
          "base_uri": "https://localhost:8080/"
        },
        "id": "5ej7cz6ayWcE",
        "outputId": "63dc498d-ddaa-4a81-d410-b717242948f8"
      },
      "execution_count": 10,
      "outputs": [
        {
          "output_type": "stream",
          "name": "stdout",
          "text": [
            "Trial 30 Complete [00h 00m 07s]\n",
            "val_loss: 3.712221622467041\n",
            "\n",
            "Best val_loss So Far: 2.0674517154693604\n",
            "Total elapsed time: 00h 01m 17s\n"
          ]
        }
      ]
    },
    {
      "cell_type": "code",
      "source": [
        "from tensorflow.keras.models import load_model\n",
        "\n",
        "model = load_model(folder_path + \"tuner/01-2.0675.h5\")\n",
        "model.summary()"
      ],
      "metadata": {
        "colab": {
          "base_uri": "https://localhost:8080/"
        },
        "id": "MaSTYe3FAWfO",
        "outputId": "afb179b7-9dd5-41ea-a94c-ab3932ffba2a"
      },
      "execution_count": 11,
      "outputs": [
        {
          "output_type": "stream",
          "name": "stdout",
          "text": [
            "Model: \"model\"\n",
            "_________________________________________________________________\n",
            " Layer (type)                Output Shape              Param #   \n",
            "=================================================================\n",
            " input_1 (InputLayer)        [(None, 64, 64, 3)]       0         \n",
            "                                                                 \n",
            " conv2d_4 (Conv2D)           (None, 64, 64, 256)       7168      \n",
            "                                                                 \n",
            " maxpool2d_4 (MaxPooling2D)  (None, 32, 32, 256)       0         \n",
            "                                                                 \n",
            " batchnorm (BatchNormalizati  (None, 32, 32, 256)      1024      \n",
            " on)                                                             \n",
            "                                                                 \n",
            " dropout (Dropout)           (None, 32, 32, 256)       0         \n",
            "                                                                 \n",
            " globalmaxpool (GlobalMaxPoo  (None, 256)              0         \n",
            " ling2D)                                                         \n",
            "                                                                 \n",
            " activation (Activation)     (None, 256)               0         \n",
            "                                                                 \n",
            " prediction (Dense)          (None, 5)                 1285      \n",
            "                                                                 \n",
            "=================================================================\n",
            "Total params: 9,477\n",
            "Trainable params: 8,965\n",
            "Non-trainable params: 512\n",
            "_________________________________________________________________\n"
          ]
        }
      ]
    },
    {
      "cell_type": "code",
      "source": [
        "from tensorflow.keras.callbacks import ReduceLROnPlateau\n",
        "\n",
        "callbacks = [EarlyStopping(monitor=\"val_loss\", patience=3, verbose=1),\n",
        "             ReduceLROnPlateau(monitor = 'val_loss', factor=0.1, patience=2, verbose=1),\n",
        "             ModelCheckpoint(folder_path + \"tuner/{epoch:02d}-{val_loss:.4f}.h5\", monitor=\"val_loss\", mode=\"min\", save_best_only=True, verbose=1)]\n",
        "history = model.fit(X_train, y_train, epochs=200,\n",
        "                    validation_data=(X_val, y_val), verbose=1,\n",
        "                    callbacks=callbacks)"
      ],
      "metadata": {
        "colab": {
          "base_uri": "https://localhost:8080/"
        },
        "id": "M0SjxqofA2SU",
        "outputId": "12df9881-2456-4502-f80f-3ebbd98cc5d8"
      },
      "execution_count": 12,
      "outputs": [
        {
          "output_type": "stream",
          "name": "stdout",
          "text": [
            "Epoch 1/200\n",
            "1/3 [=========>....................] - ETA: 0s - loss: 20.4722 - accuracy: 0.1562\n",
            "Epoch 1: val_loss improved from inf to 3.32111, saving model to /content/drive/MyDrive/Learning Journey/Villain Data/tuner/01-3.3211.h5\n",
            "3/3 [==============================] - 1s 128ms/step - loss: 16.9024 - accuracy: 0.2143 - val_loss: 3.3211 - val_accuracy: 0.1333 - lr: 0.0100\n",
            "Epoch 2/200\n",
            "1/3 [=========>....................] - ETA: 0s - loss: 9.5127 - accuracy: 0.3125\n",
            "Epoch 2: val_loss did not improve from 3.32111\n",
            "3/3 [==============================] - 0s 32ms/step - loss: 8.8375 - accuracy: 0.2714 - val_loss: 3.8193 - val_accuracy: 0.2000 - lr: 0.0100\n",
            "Epoch 3/200\n",
            "1/3 [=========>....................] - ETA: 0s - loss: 5.6074 - accuracy: 0.2812\n",
            "Epoch 3: ReduceLROnPlateau reducing learning rate to 0.0009999999776482583.\n",
            "\n",
            "Epoch 3: val_loss did not improve from 3.32111\n",
            "3/3 [==============================] - 0s 36ms/step - loss: 8.4189 - accuracy: 0.2429 - val_loss: 3.6248 - val_accuracy: 0.2000 - lr: 0.0100\n",
            "Epoch 4/200\n",
            "1/3 [=========>....................] - ETA: 0s - loss: 4.6711 - accuracy: 0.2812\n",
            "Epoch 4: val_loss did not improve from 3.32111\n",
            "3/3 [==============================] - 0s 33ms/step - loss: 4.2943 - accuracy: 0.3286 - val_loss: 3.3753 - val_accuracy: 0.2000 - lr: 1.0000e-03\n",
            "Epoch 4: early stopping\n"
          ]
        }
      ]
    },
    {
      "cell_type": "code",
      "source": [
        "import matplotlib.pyplot as plt\n",
        "\n",
        "def graph_history(title, subtitle, interval):\n",
        "    plt.plot(history.history[title], label = title)\n",
        "    plt.plot(history.history[subtitle], label = subtitle)\n",
        "    plt.xlabel('Epoch')\n",
        "    plt.ylabel(title)\n",
        "    plt.ylim(interval)\n",
        "    plt.legend(loc='lower right')"
      ],
      "metadata": {
        "id": "11BQV9GTTJBm"
      },
      "execution_count": 13,
      "outputs": []
    },
    {
      "cell_type": "code",
      "source": [
        "graph_history('loss', 'val_loss', [0.0, 20.0])"
      ],
      "metadata": {
        "colab": {
          "base_uri": "https://localhost:8080/",
          "height": 304
        },
        "id": "oWLHIeBTTJ3C",
        "outputId": "3294e451-0bde-46b0-a410-dff13d0d94ac"
      },
      "execution_count": 15,
      "outputs": [
        {
          "output_type": "display_data",
          "data": {
            "text/plain": [
              "<Figure size 432x288 with 1 Axes>"
            ],
            "image/png": "[encoded data removed]"
          },
          "metadata": {
            "needs_background": "light"
          }
        }
      ]
    },
    {
      "cell_type": "code",
      "source": [
        "graph_history('accuracy', 'val_accuracy', [0.0, 1.0])"
      ],
      "metadata": {
        "colab": {
          "base_uri": "https://localhost:8080/",
          "height": 304
        },
        "id": "5_CKcyZ2TPY3",
        "outputId": "c5b6f8a2-ce13-409d-fd26-9eb9756e703f"
      },
      "execution_count": 16,
      "outputs": [
        {
          "output_type": "display_data",
          "data": {
            "text/plain": [
              "<Figure size 432x288 with 1 Axes>"
            ],
            "image/png": "[encoded data removed]"
          },
          "metadata": {
            "needs_background": "light"
          }
        }
      ]
    },
    {
      "cell_type": "code",
      "source": [
        "from sklearn.metrics import accuracy_score, precision_score, recall_score, f1_score\n",
        "\n",
        "y_pred = np.argmax(model.predict(X_test), axis=1)\n",
        "print('accuracy : %.4f' % (accuracy_score(y_test, y_pred)) )\n",
        "print('precision : %.4f' % (precision_score(y_test, y_pred, average='macro')) )\n",
        "print('recall : %.4f' % (recall_score(y_test, y_pred, average='macro')) )\n",
        "print('f1 : %.4f' % (f1_score(y_test, y_pred, average='macro')) )"
      ],
      "metadata": {
        "colab": {
          "base_uri": "https://localhost:8080/"
        },
        "id": "QL0ozMmpMcNs",
        "outputId": "e6792fd8-65e7-4d32-bea1-43d769468eb0"
      },
      "execution_count": 25,
      "outputs": [
        {
          "output_type": "stream",
          "name": "stdout",
          "text": [
            "accuracy : 0.2000\n",
            "precision : 0.0500\n",
            "recall : 0.2500\n",
            "f1 : 0.0833\n"
          ]
        },
        {
          "output_type": "stream",
          "name": "stderr",
          "text": [
            "/usr/local/lib/python3.7/dist-packages/sklearn/metrics/_classification.py:1318: UndefinedMetricWarning: Precision is ill-defined and being set to 0.0 in labels with no predicted samples. Use `zero_division` parameter to control this behavior.\n",
            "  _warn_prf(average, modifier, msg_start, len(result))\n"
          ]
        }
      ]
    },
    {
      "cell_type": "code",
      "source": [
        "from sklearn.metrics import confusion_matrix, ConfusionMatrixDisplay\n",
        "\n",
        "cm = confusion_matrix(y_test, y_pred, labels=[0, 1, 2, 3, 4])\n",
        "disp = ConfusionMatrixDisplay(confusion_matrix=cm, display_labels=[0, 1, 2, 3, 4])\n",
        "disp.plot()"
      ],
      "metadata": {
        "id": "Pj5BDi-GNd6L",
        "colab": {
          "base_uri": "https://localhost:8080/",
          "height": 321
        },
        "outputId": "e61f690d-5f9b-4237-f394-94038ccc244b"
      },
      "execution_count": 27,
      "outputs": [
        {
          "output_type": "execute_result",
          "data": {
            "text/plain": [
              "<sklearn.metrics._plot.confusion_matrix.ConfusionMatrixDisplay at 0x7f8c953e70d0>"
            ]
          },
          "metadata": {},
          "execution_count": 27
        },
        {
          "output_type": "display_data",
          "data": {
            "text/plain": [
              "<Figure size 432x288 with 2 Axes>"
            ],
            "image/png": "[encoded data removed]"
          },
          "metadata": {
            "needs_background": "light"
          }
        }
      ]
    }
  ]
}