{
  "nbformat": 4,
  "nbformat_minor": 0,
  "metadata": {
    "colab": {
      "name": "VillainClassification.ipynb",
      "provenance": [],
      "authorship_tag": "ABX9TyNsolTnhhC+GqF/5Y8ud4Wu",
      "include_colab_link": true
    },
    "kernelspec": {
      "name": "python3",
      "display_name": "Python 3"
    },
    "language_info": {
      "name": "python"
    },
    "accelerator": "GPU",
    "gpuClass": "standard"
  },
  "cells": [
    {
      "cell_type": "markdown",
      "metadata": {
        "id": "view-in-github",
        "colab_type": "text"
      },
      "source": [
        "<a href=\"https://colab.research.google.com/github/oktaviacitra/classification/blob/main/VillainClassification.ipynb\" target=\"_parent\"><img src=\"https://colab.research.google.com/assets/colab-badge.svg\" alt=\"Open In Colab\"/></a>"
      ]
    },
    {
      "cell_type": "code",
      "execution_count": 1,
      "metadata": {
        "colab": {
          "base_uri": "https://localhost:8080/"
        },
        "id": "5ioK88NuBHUM",
        "outputId": "b81b448a-cabd-4718-dff9-5932161bbd14"
      },
      "outputs": [
        {
          "output_type": "stream",
          "name": "stdout",
          "text": [
            "Mounted at /content/drive\n"
          ]
        }
      ],
      "source": [
        "from google.colab import drive\n",
        "\n",
        "origin_path = \"/content/drive\"\n",
        "drive.mount(origin_path)\n",
        "\n",
        "folder_path = origin_path + \"/MyDrive/Learning Journey/Villain Data/\""
      ]
    },
    {
      "cell_type": "code",
      "source": [
        "class_labels = [\"Vader\", \"Green Goblin\", \"Joker\", \"Thanos\", \"Venom\"]\n",
        "image_files = [ (folder_path + label + \"/\" + label + \" \" + str(i) + \".jpg\") for i in range(1, 21) for label in class_labels]\n",
        "len(image_files)"
      ],
      "metadata": {
        "colab": {
          "base_uri": "https://localhost:8080/"
        },
        "id": "GRH6WbiEELaw",
        "outputId": "52d551b2-3715-4151-c856-80d87de9c013"
      },
      "execution_count": 2,
      "outputs": [
        {
          "output_type": "execute_result",
          "data": {
            "text/plain": [
              "100"
            ]
          },
          "metadata": {},
          "execution_count": 2
        }
      ]
    },
    {
      "cell_type": "code",
      "source": [
        "import tensorflow\n",
        "import numpy as np\n",
        "from PIL import Image\n",
        "from tensorflow.keras.preprocessing import image\n",
        "\n",
        "def preprocessing_image(path, target):\n",
        "    img = Image.open(path)\n",
        "\n",
        "    # crop central\n",
        "    width, height = img.size\n",
        "    new_width = new_height = width\n",
        "    left = (width - new_width)/2\n",
        "    top = (height - new_height)/2\n",
        "    right = (width + new_width)/2\n",
        "    bottom = (height + new_height)/2\n",
        "    img = img.crop((left, top, right, bottom))\n",
        "\n",
        "    # convert to array of rgb\n",
        "    img = img.resize(target)\n",
        "    img = img.convert('RGB')\n",
        "    x = image.img_to_array(img)\n",
        "    x = x[:, :, :3]\n",
        "    x = np.true_divide(x, 255)\n",
        "    return x"
      ],
      "metadata": {
        "id": "pK1ZNXe5GcH1"
      },
      "execution_count": 3,
      "outputs": []
    },
    {
      "cell_type": "code",
      "source": [
        "from sklearn.preprocessing import LabelEncoder\n",
        "\n",
        "X = np.asarray([preprocessing_image(image_file, (64,64)) for image_file in image_files])\n",
        "\n",
        "y = [ label for i in range(1, 21) for label in class_labels]\n",
        "le = LabelEncoder()\n",
        "le.fit(y)\n",
        "y = le.transform(y)\n",
        "\n",
        "\n",
        "X.shape, y.shape"
      ],
      "metadata": {
        "colab": {
          "base_uri": "https://localhost:8080/"
        },
        "id": "ICaKWuQCTPF3",
        "outputId": "ce733506-814a-4a99-eccd-537cc1caa400"
      },
      "execution_count": 22,
      "outputs": [
        {
          "output_type": "execute_result",
          "data": {
            "text/plain": [
              "((100, 64, 64, 3), (100,))"
            ]
          },
          "metadata": {},
          "execution_count": 22
        }
      ]
    },
    {
      "cell_type": "code",
      "source": [
        "from sklearn.model_selection import train_test_split\n",
        "\n",
        "X_train, X_test, y_train, y_test = train_test_split(X, y, test_size=0.3, random_state=42)\n",
        "X_test, X_val, y_test, y_val = train_test_split(X_test, y_test, test_size=0.5, random_state=42)\n",
        "X_train.shape, X_test.shape, X_val.shape"
      ],
      "metadata": {
        "colab": {
          "base_uri": "https://localhost:8080/"
        },
        "id": "zEFRI9oUyreI",
        "outputId": "15670363-13ce-4770-9913-875669513032"
      },
      "execution_count": 23,
      "outputs": [
        {
          "output_type": "execute_result",
          "data": {
            "text/plain": [
              "((70, 64, 64, 3), (15, 64, 64, 3), (15, 64, 64, 3))"
            ]
          },
          "metadata": {},
          "execution_count": 23
        }
      ]
    },
    {
      "cell_type": "code",
      "source": [
        "from tensorflow.keras import Input, Model, regularizers\n",
        "from tensorflow.keras.layers import Conv2D, MaxPooling2D, AveragePooling2D, BatchNormalization, Activation, Flatten, Dense, GlobalAveragePooling2D, GlobalMaxPooling2D, Dropout\n",
        "from tensorflow.keras.optimizers import Adam, SGD\n",
        "\n",
        "def model_builder(hp):\n",
        "  inputs = Input(shape=(64, 64, 3))\n",
        "  x = Conv2D(filters = hp.Int('filters', min_value=64, max_value=1024, step = 32),\n",
        "             kernel_size = hp.Int('kernel_size', 3, 5),\n",
        "             padding=\"same\",\n",
        "             activation='relu',\n",
        "             dilation_rate=2,\n",
        "             kernel_initializer = \"he_normal\",\n",
        "             kernel_regularizer=regularizers.l2(0.001),\n",
        "             name=\"conv2d\")(inputs)\n",
        "\n",
        "  if hp.Choice('pooling', ['max', 'avg']) == 'max':\n",
        "    x = MaxPooling2D(name=\"maxpool2d\")(x)\n",
        "  else:\n",
        "    x = AveragePooling2D(name=\"averagepool2d\")(x)\n",
        "\n",
        "  x = BatchNormalization(name=\"batchnorm\")(x)\n",
        "  x = Dropout(0.1, name=\"dropout\")(x)\n",
        "\n",
        "  if hp.Choice('pooling', ['max', 'avg']) == 'max':\n",
        "    x = GlobalMaxPooling2D(name='globalmaxpool')(x)\n",
        "  else:\n",
        "    x = GlobalAveragePooling2D(name='globalaveragepool')(x)\n",
        "\n",
        "  x = Dense(units=hp.Int('units_1', min_value=128, max_value=512, step=32),\n",
        "            activation='relu',\n",
        "            name='fully_connected')(x)\n",
        "  outputs = Dense(5, activation='softmax', name='prediction')(x)\n",
        "\n",
        "  model = Model(inputs=inputs, outputs=outputs)\n",
        "\n",
        "  learning_rate = hp.Choice('learning_rate', values=[1e-2, 1e-3, 1e-4])\n",
        "  optimizer = Adam(learning_rate=learning_rate) if hp.Choice('optimizer', ['adam', 'sgd']) == 'adam' else SGD(learning_rate=learning_rate)\n",
        "  \n",
        "  model.compile(optimizer=optimizer,\n",
        "                loss='sparse_categorical_crossentropy',\n",
        "                metrics=['accuracy'])\n",
        "\n",
        "  return model"
      ],
      "metadata": {
        "id": "xK4_t7O7k0Tn"
      },
      "execution_count": 24,
      "outputs": []
    },
    {
      "cell_type": "code",
      "source": [
        "!pip install -q -U keras-tuner"
      ],
      "metadata": {
        "colab": {
          "base_uri": "https://localhost:8080/"
        },
        "id": "nAwfaDnJ0jsy",
        "outputId": "4b0d169e-132b-468e-b4b7-24338c1480a1"
      },
      "execution_count": 7,
      "outputs": [
        {
          "output_type": "stream",
          "name": "stdout",
          "text": [
            "\u001b[?25l\r\u001b[K     |██▍                             | 10 kB 27.7 MB/s eta 0:00:01\r\u001b[K     |████▉                           | 20 kB 32.4 MB/s eta 0:00:01\r\u001b[K     |███████▎                        | 30 kB 24.1 MB/s eta 0:00:01\r\u001b[K     |█████████▋                      | 40 kB 14.7 MB/s eta 0:00:01\r\u001b[K     |████████████                    | 51 kB 12.6 MB/s eta 0:00:01\r\u001b[K     |██████████████▌                 | 61 kB 14.4 MB/s eta 0:00:01\r\u001b[K     |█████████████████               | 71 kB 14.1 MB/s eta 0:00:01\r\u001b[K     |███████████████████▎            | 81 kB 12.8 MB/s eta 0:00:01\r\u001b[K     |█████████████████████▊          | 92 kB 14.0 MB/s eta 0:00:01\r\u001b[K     |████████████████████████▏       | 102 kB 14.9 MB/s eta 0:00:01\r\u001b[K     |██████████████████████████▋     | 112 kB 14.9 MB/s eta 0:00:01\r\u001b[K     |█████████████████████████████   | 122 kB 14.9 MB/s eta 0:00:01\r\u001b[K     |███████████████████████████████▍| 133 kB 14.9 MB/s eta 0:00:01\r\u001b[K     |████████████████████████████████| 135 kB 14.9 MB/s \n",
            "\u001b[?25h"
          ]
        }
      ]
    },
    {
      "cell_type": "code",
      "source": [
        "import keras_tuner as kt\n",
        "\n",
        "tuner = kt.Hyperband(hypermodel = model_builder,\n",
        "                             objective = 'val_loss',\n",
        "                             max_epochs = 10,\n",
        "                             factor = 3,\n",
        "                             directory = folder_path + '/results_dir',\n",
        "                             project_name = 'villain')\n",
        "tuner.search_space_summary()"
      ],
      "metadata": {
        "colab": {
          "base_uri": "https://localhost:8080/"
        },
        "id": "urYg998ax9RK",
        "outputId": "7e7b5043-467c-4cce-d458-590b145d8fdf"
      },
      "execution_count": 27,
      "outputs": [
        {
          "output_type": "stream",
          "name": "stdout",
          "text": [
            "INFO:tensorflow:Reloading Oracle from existing project /content/drive/MyDrive/Learning Journey/Villain Data//results_dir/villain/oracle.json\n"
          ]
        },
        {
          "output_type": "stream",
          "name": "stderr",
          "text": [
            "INFO:tensorflow:Reloading Oracle from existing project /content/drive/MyDrive/Learning Journey/Villain Data//results_dir/villain/oracle.json\n"
          ]
        },
        {
          "output_type": "stream",
          "name": "stdout",
          "text": [
            "INFO:tensorflow:Reloading Tuner from /content/drive/MyDrive/Learning Journey/Villain Data//results_dir/villain/tuner0.json\n"
          ]
        },
        {
          "output_type": "stream",
          "name": "stderr",
          "text": [
            "INFO:tensorflow:Reloading Tuner from /content/drive/MyDrive/Learning Journey/Villain Data//results_dir/villain/tuner0.json\n"
          ]
        },
        {
          "output_type": "stream",
          "name": "stdout",
          "text": [
            "Search space summary\n",
            "Default search space size: 6\n",
            "filters (Int)\n",
            "{'default': None, 'conditions': [], 'min_value': 64, 'max_value': 1024, 'step': 32, 'sampling': None}\n",
            "kernel_size (Int)\n",
            "{'default': None, 'conditions': [], 'min_value': 3, 'max_value': 5, 'step': 1, 'sampling': None}\n",
            "pooling (Choice)\n",
            "{'default': 'max', 'conditions': [], 'values': ['max', 'avg'], 'ordered': False}\n",
            "units_1 (Int)\n",
            "{'default': None, 'conditions': [], 'min_value': 128, 'max_value': 1024, 'step': 32, 'sampling': None}\n",
            "learning_rate (Choice)\n",
            "{'default': 0.01, 'conditions': [], 'values': [0.01, 0.001, 0.0001], 'ordered': True}\n",
            "optimizer (Choice)\n",
            "{'default': 'adam', 'conditions': [], 'values': ['adam', 'sgd'], 'ordered': False}\n"
          ]
        }
      ]
    },
    {
      "cell_type": "code",
      "source": [
        "from tensorflow.keras.callbacks import EarlyStopping, ModelCheckpoint\n",
        "\n",
        "best_weight = ModelCheckpoint(folder_path + \"tuner/{epoch:02d}-{val_loss:.4f}.h5\",\n",
        "                              monitor=\"val_loss\",\n",
        "                              mode=\"min\",\n",
        "                              save_best_only=True,\n",
        "                              verbose=1)\n",
        "stop_early = EarlyStopping(monitor='val_loss', patience=5)\n",
        "\n",
        "tuner.search(X_train, y_train, epochs=20,\n",
        "             validation_data=(X_val, y_val),\n",
        "             callbacks=[stop_early, best_weight],\n",
        "             verbose=2)"
      ],
      "metadata": {
        "colab": {
          "base_uri": "https://localhost:8080/"
        },
        "id": "5ej7cz6ayWcE",
        "outputId": "daafa6d2-cb42-4c2b-90fd-2680c80d8025"
      },
      "execution_count": 28,
      "outputs": [
        {
          "output_type": "stream",
          "name": "stdout",
          "text": [
            "INFO:tensorflow:Oracle triggered exit\n"
          ]
        },
        {
          "output_type": "stream",
          "name": "stderr",
          "text": [
            "INFO:tensorflow:Oracle triggered exit\n"
          ]
        }
      ]
    }
  ]
}