{
  "nbformat": 4,
  "nbformat_minor": 0,
  "metadata": {
    "colab": {
      "name": "VillainClassification.ipynb",
      "provenance": [],
      "authorship_tag": "ABX9TyNVBnpklsygZNy7/kM+sv8o",
      "include_colab_link": true
    },
    "kernelspec": {
      "name": "python3",
      "display_name": "Python 3"
    },
    "language_info": {
      "name": "python"
    }
  },
  "cells": [
    {
      "cell_type": "markdown",
      "metadata": {
        "id": "view-in-github",
        "colab_type": "text"
      },
      "source": [
        "<a href=\"https://colab.research.google.com/github/oktaviacitra/classification/blob/main/VillainClassification.ipynb\" target=\"_parent\"><img src=\"https://colab.research.google.com/assets/colab-badge.svg\" alt=\"Open In Colab\"/></a>"
      ]
    },
    {
      "cell_type": "code",
      "execution_count": 1,
      "metadata": {
        "colab": {
          "base_uri": "https://localhost:8080/"
        },
        "id": "5ioK88NuBHUM",
        "outputId": "e123df8f-f288-4816-94c1-c544365ff623"
      },
      "outputs": [
        {
          "output_type": "stream",
          "name": "stdout",
          "text": [
            "Drive already mounted at /content/drive; to attempt to forcibly remount, call drive.mount(\"/content/drive\", force_remount=True).\n"
          ]
        }
      ],
      "source": [
        "from google.colab import drive\n",
        "\n",
        "origin_path = \"/content/drive\"\n",
        "drive.mount(origin_path)\n",
        "\n",
        "folder_path = origin_path + \"/MyDrive/Learning Journey/Villain Data/\""
      ]
    },
    {
      "cell_type": "code",
      "source": [
        "class_labels = [\"Vader\", \"Green Goblin\", \"Joker\", \"Thanos\", \"Venom\"]\n",
        "image_files = [ (folder_path + label + \"/\" + label + \" \" + str(i) + \".jpg\") for i in range(1, 21) for label in class_labels]\n",
        "len(image_files)"
      ],
      "metadata": {
        "colab": {
          "base_uri": "https://localhost:8080/"
        },
        "id": "GRH6WbiEELaw",
        "outputId": "8d85654f-55d4-4c87-b40d-64cbc6d536f3"
      },
      "execution_count": 2,
      "outputs": [
        {
          "output_type": "execute_result",
          "data": {
            "text/plain": [
              "100"
            ]
          },
          "metadata": {},
          "execution_count": 2
        }
      ]
    },
    {
      "cell_type": "code",
      "source": [
        "import tensorflow\n",
        "from tensorflow.keras.preprocessing.image import load_img, img_to_array\n",
        "from tensorflow.image import central_crop\n",
        "import numpy as np\n",
        "\n",
        "def preprocessing_image(path):\n",
        "  image = load_img(path)\n",
        "  image = img_to_array(image)\n",
        "  image = central_crop(image, 0.5)\n",
        "  image = np.array(image)\n",
        "  return image\n",
        "\n",
        "test = preprocessing_image(image_files[0])\n",
        "test.shape"
      ],
      "metadata": {
        "colab": {
          "base_uri": "https://localhost:8080/"
        },
        "id": "pK1ZNXe5GcH1",
        "outputId": "c1eb4194-e272-419c-ce69-1fae4f790eb5"
      },
      "execution_count": 4,
      "outputs": [
        {
          "output_type": "execute_result",
          "data": {
            "text/plain": [
              "(84, 150, 3)"
            ]
          },
          "metadata": {},
          "execution_count": 4
        }
      ]
    }
  ]
}